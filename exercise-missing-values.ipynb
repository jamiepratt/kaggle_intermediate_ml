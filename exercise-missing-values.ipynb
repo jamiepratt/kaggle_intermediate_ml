{
 "cells": [
  {
   "cell_type": "markdown",
   "id": "4a5c174c",
   "metadata": {
    "papermill": {
     "duration": 0.036813,
     "end_time": "2022-03-29T08:47:40.032886",
     "exception": false,
     "start_time": "2022-03-29T08:47:39.996073",
     "status": "completed"
    },
    "tags": []
   },
   "source": [
    "**This notebook is an exercise in the [Intermediate Machine Learning](https://www.kaggle.com/learn/intermediate-machine-learning) course.  You can reference the tutorial at [this link](https://www.kaggle.com/alexisbcook/missing-values).**\n",
    "\n",
    "---\n"
   ]
  },
  {
   "cell_type": "markdown",
   "id": "ee1db4a5",
   "metadata": {
    "papermill": {
     "duration": 0.03428,
     "end_time": "2022-03-29T08:47:40.102088",
     "exception": false,
     "start_time": "2022-03-29T08:47:40.067808",
     "status": "completed"
    },
    "tags": []
   },
   "source": [
    "Now it's your turn to test your new knowledge of **missing values** handling. You'll probably find it makes a big difference.\n",
    "\n",
    "# Setup\n",
    "\n",
    "The questions will give you feedback on your work. Run the following cell to set up the feedback system."
   ]
  },
  {
   "cell_type": "code",
   "execution_count": 1,
   "id": "cccc14ea",
   "metadata": {
    "execution": {
     "iopub.execute_input": "2022-03-29T08:47:40.178709Z",
     "iopub.status.busy": "2022-03-29T08:47:40.176907Z",
     "iopub.status.idle": "2022-03-29T08:47:40.229343Z",
     "shell.execute_reply": "2022-03-29T08:47:40.229902Z",
     "shell.execute_reply.started": "2022-03-29T08:19:28.483766Z"
    },
    "papermill": {
     "duration": 0.093594,
     "end_time": "2022-03-29T08:47:40.230227",
     "exception": false,
     "start_time": "2022-03-29T08:47:40.136633",
     "status": "completed"
    },
    "tags": []
   },
   "outputs": [
    {
     "name": "stdout",
     "output_type": "stream",
     "text": [
      "Setup Complete\n"
     ]
    }
   ],
   "source": [
    "# Set up code checking\n",
    "import os\n",
    "# items only to run on kaggle notebook, not for local run\n",
    "from typing import Union, Any\n",
    "\n",
    "if os.environ.get('KAGGLE_KERNEL_RUN_TYPE','') != '':\n",
    "    if not os.path.exists(\"../input/train.csv\"):\n",
    "        os.symlink(\"../input/home-data-for-ml-course/train.csv\", \"../input/train.csv\")  \n",
    "        os.symlink(\"../input/home-data-for-ml-course/test.csv\", \"../input/test.csv\") \n",
    "    from learntools.core import binder\n",
    "    binder.bind(globals())\n",
    "    from learntools.ml_intermediate.ex2 import *\n",
    "print(\"Setup Complete\")"
   ]
  },
  {
   "cell_type": "markdown",
   "id": "82d22dc6",
   "metadata": {
    "papermill": {
     "duration": 0.034814,
     "end_time": "2022-03-29T08:47:40.300565",
     "exception": false,
     "start_time": "2022-03-29T08:47:40.265751",
     "status": "completed"
    },
    "tags": []
   },
   "source": [
    "In this exercise, you will work with data from the [Housing Prices Competition for Kaggle Learn Users](https://www.kaggle.com/c/home-data-for-ml-course). \n",
    "\n",
    "![Ames Housing dataset image](https://i.imgur.com/lTJVG4e.png)\n",
    "\n",
    "Run the next code cell without changes to load the training and validation sets in `X_train`, `X_valid`, `y_train`, and `y_valid`.  The test set is loaded in `X_test`."
   ]
  },
  {
   "cell_type": "code",
   "execution_count": 2,
   "id": "1c858b30",
   "metadata": {
    "execution": {
     "iopub.execute_input": "2022-03-29T08:47:40.375588Z",
     "iopub.status.busy": "2022-03-29T08:47:40.374514Z",
     "iopub.status.idle": "2022-03-29T08:47:41.638280Z",
     "shell.execute_reply": "2022-03-29T08:47:41.638955Z",
     "shell.execute_reply.started": "2022-03-29T08:19:28.545428Z"
    },
    "papermill": {
     "duration": 1.303527,
     "end_time": "2022-03-29T08:47:41.639129",
     "exception": false,
     "start_time": "2022-03-29T08:47:40.335602",
     "status": "completed"
    },
    "tags": []
   },
   "outputs": [],
   "source": [
    "import pandas as pd\n",
    "from sklearn.model_selection import train_test_split\n",
    "\n",
    "# Read the data\n",
    "X_full = pd.read_csv('../input/train.csv', index_col='Id')\n",
    "X_test_full = pd.read_csv('../input/test.csv', index_col='Id')\n",
    "\n",
    "# Remove rows with missing target, separate target from predictors\n",
    "X_full.dropna(axis=0, subset=['SalePrice'], inplace=True)\n",
    "y = X_full.SalePrice\n",
    "X_full.drop(['SalePrice'], axis=1, inplace=True)\n",
    "\n",
    "# To keep things simple, we'll use only numerical predictors\n",
    "X = X_full.select_dtypes(exclude=['object'])\n",
    "X_test = X_test_full.select_dtypes(exclude=['object'])\n",
    "\n",
    "# Break off validation set from training data\n",
    "X_train, X_valid, y_train, y_valid = train_test_split(X, y, train_size=0.8, test_size=0.2,\n",
    "                                                      random_state=0)"
   ]
  },
  {
   "cell_type": "markdown",
   "id": "358e5007",
   "metadata": {
    "papermill": {
     "duration": 0.036192,
     "end_time": "2022-03-29T08:47:41.710537",
     "exception": false,
     "start_time": "2022-03-29T08:47:41.674345",
     "status": "completed"
    },
    "tags": []
   },
   "source": [
    "Use the next code cell to print the first five rows of the data."
   ]
  },
  {
   "cell_type": "code",
   "execution_count": 3,
   "id": "7bbef5fb",
   "metadata": {
    "execution": {
     "iopub.execute_input": "2022-03-29T08:47:41.786545Z",
     "iopub.status.busy": "2022-03-29T08:47:41.785498Z",
     "iopub.status.idle": "2022-03-29T08:47:41.815449Z",
     "shell.execute_reply": "2022-03-29T08:47:41.815964Z",
     "shell.execute_reply.started": "2022-03-29T08:19:29.689098Z"
    },
    "papermill": {
     "duration": 0.068849,
     "end_time": "2022-03-29T08:47:41.816134",
     "exception": false,
     "start_time": "2022-03-29T08:47:41.747285",
     "status": "completed"
    },
    "tags": []
   },
   "outputs": [
    {
     "data": {
      "text/html": [
       "<div>\n",
       "<style scoped>\n",
       "    .dataframe tbody tr th:only-of-type {\n",
       "        vertical-align: middle;\n",
       "    }\n",
       "\n",
       "    .dataframe tbody tr th {\n",
       "        vertical-align: top;\n",
       "    }\n",
       "\n",
       "    .dataframe thead th {\n",
       "        text-align: right;\n",
       "    }\n",
       "</style>\n",
       "<table border=\"1\" class=\"dataframe\">\n",
       "  <thead>\n",
       "    <tr style=\"text-align: right;\">\n",
       "      <th></th>\n",
       "      <th>MSSubClass</th>\n",
       "      <th>LotFrontage</th>\n",
       "      <th>LotArea</th>\n",
       "      <th>OverallQual</th>\n",
       "      <th>OverallCond</th>\n",
       "      <th>YearBuilt</th>\n",
       "      <th>YearRemodAdd</th>\n",
       "      <th>MasVnrArea</th>\n",
       "      <th>BsmtFinSF1</th>\n",
       "      <th>BsmtFinSF2</th>\n",
       "      <th>...</th>\n",
       "      <th>GarageArea</th>\n",
       "      <th>WoodDeckSF</th>\n",
       "      <th>OpenPorchSF</th>\n",
       "      <th>EnclosedPorch</th>\n",
       "      <th>3SsnPorch</th>\n",
       "      <th>ScreenPorch</th>\n",
       "      <th>PoolArea</th>\n",
       "      <th>MiscVal</th>\n",
       "      <th>MoSold</th>\n",
       "      <th>YrSold</th>\n",
       "    </tr>\n",
       "    <tr>\n",
       "      <th>Id</th>\n",
       "      <th></th>\n",
       "      <th></th>\n",
       "      <th></th>\n",
       "      <th></th>\n",
       "      <th></th>\n",
       "      <th></th>\n",
       "      <th></th>\n",
       "      <th></th>\n",
       "      <th></th>\n",
       "      <th></th>\n",
       "      <th></th>\n",
       "      <th></th>\n",
       "      <th></th>\n",
       "      <th></th>\n",
       "      <th></th>\n",
       "      <th></th>\n",
       "      <th></th>\n",
       "      <th></th>\n",
       "      <th></th>\n",
       "      <th></th>\n",
       "      <th></th>\n",
       "    </tr>\n",
       "  </thead>\n",
       "  <tbody>\n",
       "    <tr>\n",
       "      <th>619</th>\n",
       "      <td>20</td>\n",
       "      <td>90.0</td>\n",
       "      <td>11694</td>\n",
       "      <td>9</td>\n",
       "      <td>5</td>\n",
       "      <td>2007</td>\n",
       "      <td>2007</td>\n",
       "      <td>452.0</td>\n",
       "      <td>48</td>\n",
       "      <td>0</td>\n",
       "      <td>...</td>\n",
       "      <td>774</td>\n",
       "      <td>0</td>\n",
       "      <td>108</td>\n",
       "      <td>0</td>\n",
       "      <td>0</td>\n",
       "      <td>260</td>\n",
       "      <td>0</td>\n",
       "      <td>0</td>\n",
       "      <td>7</td>\n",
       "      <td>2007</td>\n",
       "    </tr>\n",
       "    <tr>\n",
       "      <th>871</th>\n",
       "      <td>20</td>\n",
       "      <td>60.0</td>\n",
       "      <td>6600</td>\n",
       "      <td>5</td>\n",
       "      <td>5</td>\n",
       "      <td>1962</td>\n",
       "      <td>1962</td>\n",
       "      <td>0.0</td>\n",
       "      <td>0</td>\n",
       "      <td>0</td>\n",
       "      <td>...</td>\n",
       "      <td>308</td>\n",
       "      <td>0</td>\n",
       "      <td>0</td>\n",
       "      <td>0</td>\n",
       "      <td>0</td>\n",
       "      <td>0</td>\n",
       "      <td>0</td>\n",
       "      <td>0</td>\n",
       "      <td>8</td>\n",
       "      <td>2009</td>\n",
       "    </tr>\n",
       "    <tr>\n",
       "      <th>93</th>\n",
       "      <td>30</td>\n",
       "      <td>80.0</td>\n",
       "      <td>13360</td>\n",
       "      <td>5</td>\n",
       "      <td>7</td>\n",
       "      <td>1921</td>\n",
       "      <td>2006</td>\n",
       "      <td>0.0</td>\n",
       "      <td>713</td>\n",
       "      <td>0</td>\n",
       "      <td>...</td>\n",
       "      <td>432</td>\n",
       "      <td>0</td>\n",
       "      <td>0</td>\n",
       "      <td>44</td>\n",
       "      <td>0</td>\n",
       "      <td>0</td>\n",
       "      <td>0</td>\n",
       "      <td>0</td>\n",
       "      <td>8</td>\n",
       "      <td>2009</td>\n",
       "    </tr>\n",
       "    <tr>\n",
       "      <th>818</th>\n",
       "      <td>20</td>\n",
       "      <td>NaN</td>\n",
       "      <td>13265</td>\n",
       "      <td>8</td>\n",
       "      <td>5</td>\n",
       "      <td>2002</td>\n",
       "      <td>2002</td>\n",
       "      <td>148.0</td>\n",
       "      <td>1218</td>\n",
       "      <td>0</td>\n",
       "      <td>...</td>\n",
       "      <td>857</td>\n",
       "      <td>150</td>\n",
       "      <td>59</td>\n",
       "      <td>0</td>\n",
       "      <td>0</td>\n",
       "      <td>0</td>\n",
       "      <td>0</td>\n",
       "      <td>0</td>\n",
       "      <td>7</td>\n",
       "      <td>2008</td>\n",
       "    </tr>\n",
       "    <tr>\n",
       "      <th>303</th>\n",
       "      <td>20</td>\n",
       "      <td>118.0</td>\n",
       "      <td>13704</td>\n",
       "      <td>7</td>\n",
       "      <td>5</td>\n",
       "      <td>2001</td>\n",
       "      <td>2002</td>\n",
       "      <td>150.0</td>\n",
       "      <td>0</td>\n",
       "      <td>0</td>\n",
       "      <td>...</td>\n",
       "      <td>843</td>\n",
       "      <td>468</td>\n",
       "      <td>81</td>\n",
       "      <td>0</td>\n",
       "      <td>0</td>\n",
       "      <td>0</td>\n",
       "      <td>0</td>\n",
       "      <td>0</td>\n",
       "      <td>1</td>\n",
       "      <td>2006</td>\n",
       "    </tr>\n",
       "  </tbody>\n",
       "</table>\n",
       "<p>5 rows × 36 columns</p>\n",
       "</div>"
      ],
      "text/plain": [
       "     MSSubClass  LotFrontage  LotArea  OverallQual  OverallCond  YearBuilt  \\\n",
       "Id                                                                           \n",
       "619          20         90.0    11694            9            5       2007   \n",
       "871          20         60.0     6600            5            5       1962   \n",
       "93           30         80.0    13360            5            7       1921   \n",
       "818          20          NaN    13265            8            5       2002   \n",
       "303          20        118.0    13704            7            5       2001   \n",
       "\n",
       "     YearRemodAdd  MasVnrArea  BsmtFinSF1  BsmtFinSF2  ...  GarageArea  \\\n",
       "Id                                                     ...               \n",
       "619          2007       452.0          48           0  ...         774   \n",
       "871          1962         0.0           0           0  ...         308   \n",
       "93           2006         0.0         713           0  ...         432   \n",
       "818          2002       148.0        1218           0  ...         857   \n",
       "303          2002       150.0           0           0  ...         843   \n",
       "\n",
       "     WoodDeckSF  OpenPorchSF  EnclosedPorch  3SsnPorch  ScreenPorch  PoolArea  \\\n",
       "Id                                                                              \n",
       "619           0          108              0          0          260         0   \n",
       "871           0            0              0          0            0         0   \n",
       "93            0            0             44          0            0         0   \n",
       "818         150           59              0          0            0         0   \n",
       "303         468           81              0          0            0         0   \n",
       "\n",
       "     MiscVal  MoSold  YrSold  \n",
       "Id                            \n",
       "619        0       7    2007  \n",
       "871        0       8    2009  \n",
       "93         0       8    2009  \n",
       "818        0       7    2008  \n",
       "303        0       1    2006  \n",
       "\n",
       "[5 rows x 36 columns]"
      ]
     },
     "execution_count": 3,
     "metadata": {},
     "output_type": "execute_result"
    }
   ],
   "source": [
    "X_train.head()"
   ]
  },
  {
   "cell_type": "markdown",
   "id": "f5bffe8a",
   "metadata": {
    "papermill": {
     "duration": 0.035622,
     "end_time": "2022-03-29T08:47:41.887694",
     "exception": false,
     "start_time": "2022-03-29T08:47:41.852072",
     "status": "completed"
    },
    "tags": []
   },
   "source": [
    "You can already see a few missing values in the first several rows.  In the next step, you'll obtain a more comprehensive understanding of the missing values in the dataset.\n",
    "\n",
    "# Step 1: Preliminary investigation\n",
    "\n",
    "Run the code cell below without changes."
   ]
  },
  {
   "cell_type": "code",
   "execution_count": 4,
   "id": "62849465",
   "metadata": {
    "execution": {
     "iopub.execute_input": "2022-03-29T08:47:41.964087Z",
     "iopub.status.busy": "2022-03-29T08:47:41.963004Z",
     "iopub.status.idle": "2022-03-29T08:47:41.972515Z",
     "shell.execute_reply": "2022-03-29T08:47:41.971767Z",
     "shell.execute_reply.started": "2022-03-29T08:19:29.719116Z"
    },
    "papermill": {
     "duration": 0.049121,
     "end_time": "2022-03-29T08:47:41.972706",
     "exception": false,
     "start_time": "2022-03-29T08:47:41.923585",
     "status": "completed"
    },
    "tags": []
   },
   "outputs": [
    {
     "name": "stdout",
     "output_type": "stream",
     "text": [
      "(1168, 36)\n",
      "LotFrontage    212\n",
      "MasVnrArea       6\n",
      "GarageYrBlt     58\n",
      "dtype: int64\n"
     ]
    }
   ],
   "source": [
    "# Shape of training data (num_rows, num_columns)\n",
    "print(X_train.shape)\n",
    "\n",
    "# Number of missing values in each column of training data\n",
    "missing_val_count_by_column = (X_train.isnull().sum())\n",
    "print(missing_val_count_by_column[missing_val_count_by_column > 0])\n"
   ]
  },
  {
   "cell_type": "markdown",
   "id": "c9d3acfd",
   "metadata": {
    "papermill": {
     "duration": 0.035983,
     "end_time": "2022-03-29T08:47:42.045722",
     "exception": false,
     "start_time": "2022-03-29T08:47:42.009739",
     "status": "completed"
    },
    "tags": []
   },
   "source": [
    "### Part A\n",
    "\n",
    "Use the above output to answer the questions below."
   ]
  },
  {
   "cell_type": "code",
   "execution_count": 5,
   "id": "f90ecc62",
   "metadata": {
    "execution": {
     "iopub.execute_input": "2022-03-29T08:47:42.122736Z",
     "iopub.status.busy": "2022-03-29T08:47:42.121758Z",
     "iopub.status.idle": "2022-03-29T08:47:42.132052Z",
     "shell.execute_reply": "2022-03-29T08:47:42.132628Z",
     "shell.execute_reply.started": "2022-03-29T08:19:29.728711Z"
    },
    "papermill": {
     "duration": 0.050095,
     "end_time": "2022-03-29T08:47:42.132802",
     "exception": false,
     "start_time": "2022-03-29T08:47:42.082707",
     "status": "completed"
    },
    "tags": []
   },
   "outputs": [
    {
     "data": {
      "application/javascript": [
       "parent.postMessage({\"jupyterEvent\": \"custom.exercise_interaction\", \"data\": {\"outcomeType\": 1, \"valueTowardsCompletion\": 1.0, \"interactionType\": 1, \"questionType\": 1, \"questionId\": \"1.1_InvestigateEquality\", \"learnToolsVersion\": \"0.3.4\", \"failureMessage\": \"\", \"exceptionClass\": \"\", \"trace\": \"\"}}, \"*\")"
      ],
      "text/plain": [
       "<IPython.core.display.Javascript object>"
      ]
     },
     "metadata": {},
     "output_type": "display_data"
    },
    {
     "data": {
      "text/markdown": [
       "<span style=\"color:#33cc33\">Correct</span>"
      ],
      "text/plain": [
       "Correct"
      ]
     },
     "metadata": {},
     "output_type": "display_data"
    }
   ],
   "source": [
    "# Fill in the line below: How many rows are in the training data?\n",
    "num_rows = X_train.shape[0]\n",
    "# Fill in the line below: How many columns in the training data\n",
    "# have missing values?\n",
    "\n",
    "num_cols_with_missing = missing_val_count_by_column[~(missing_val_count_by_column == 0)].count()\n",
    "\n",
    "# Fill in the line below: How many missing entries are contained in \n",
    "# all of the training data?\n",
    "tot_missing = missing_val_count_by_column.sum()\n",
    "\n",
    "# Check your answers\n",
    "# items only to run on kaggle notebook, not for local run\n",
    "if os.environ.get('KAGGLE_KERNEL_RUN_TYPE','') != '':\n",
    "    step_1.a.check()"
   ]
  },
  {
   "cell_type": "code",
   "execution_count": 6,
   "id": "8aa141a3",
   "metadata": {
    "execution": {
     "iopub.execute_input": "2022-03-29T08:47:42.211445Z",
     "iopub.status.busy": "2022-03-29T08:47:42.210477Z",
     "iopub.status.idle": "2022-03-29T08:47:42.213661Z",
     "shell.execute_reply": "2022-03-29T08:47:42.214262Z",
     "shell.execute_reply.started": "2022-03-29T08:19:29.744249Z"
    },
    "papermill": {
     "duration": 0.044453,
     "end_time": "2022-03-29T08:47:42.214429",
     "exception": false,
     "start_time": "2022-03-29T08:47:42.169976",
     "status": "completed"
    },
    "tags": []
   },
   "outputs": [],
   "source": [
    "# Lines below will give you a hint or solution code\n",
    "#step_1.a.hint()\n",
    "#step_1.a.solution()"
   ]
  },
  {
   "cell_type": "markdown",
   "id": "c6345dc8",
   "metadata": {
    "papermill": {
     "duration": 0.038174,
     "end_time": "2022-03-29T08:47:42.290413",
     "exception": false,
     "start_time": "2022-03-29T08:47:42.252239",
     "status": "completed"
    },
    "tags": []
   },
   "source": [
    "### Part B\n",
    "Considering your answers above, what do you think is likely the best approach to dealing with the missing values?"
   ]
  },
  {
   "cell_type": "code",
   "execution_count": 7,
   "id": "fc9b0bed",
   "metadata": {
    "execution": {
     "iopub.execute_input": "2022-03-29T08:47:42.369750Z",
     "iopub.status.busy": "2022-03-29T08:47:42.368700Z",
     "iopub.status.idle": "2022-03-29T08:47:42.376522Z",
     "shell.execute_reply": "2022-03-29T08:47:42.377124Z",
     "shell.execute_reply.started": "2022-03-29T08:19:29.758238Z"
    },
    "papermill": {
     "duration": 0.04896,
     "end_time": "2022-03-29T08:47:42.377294",
     "exception": false,
     "start_time": "2022-03-29T08:47:42.328334",
     "status": "completed"
    },
    "tags": []
   },
   "outputs": [
    {
     "data": {
      "application/javascript": [
       "parent.postMessage({\"jupyterEvent\": \"custom.exercise_interaction\", \"data\": {\"outcomeType\": 1, \"valueTowardsCompletion\": 1.0, \"interactionType\": 1, \"questionType\": 4, \"questionId\": \"1.2_InvestigateThought\", \"learnToolsVersion\": \"0.3.4\", \"failureMessage\": \"\", \"exceptionClass\": \"\", \"trace\": \"\"}}, \"*\")"
      ],
      "text/plain": [
       "<IPython.core.display.Javascript object>"
      ]
     },
     "metadata": {},
     "output_type": "display_data"
    },
    {
     "data": {
      "text/markdown": [
       "<span style=\"color:#33cc33\">Correct:</span> \n",
       "\n",
       "Since there are relatively few missing entries in the data (the column with the greatest percentage of missing values is missing less than 20% of its entries), we can expect that dropping columns is unlikely to yield good results.  This is because we'd be throwing away a lot of valuable data, and so imputation will likely perform better."
      ],
      "text/plain": [
       "Correct: \n",
       "\n",
       "Since there are relatively few missing entries in the data (the column with the greatest percentage of missing values is missing less than 20% of its entries), we can expect that dropping columns is unlikely to yield good results.  This is because we'd be throwing away a lot of valuable data, and so imputation will likely perform better."
      ]
     },
     "metadata": {},
     "output_type": "display_data"
    }
   ],
   "source": [
    "# Check your answer (Run this code cell to receive credit!)\n",
    "# items only to run on kaggle notebook, not for local run\n",
    "if os.environ.get('KAGGLE_KERNEL_RUN_TYPE','') != '':\n",
    "    step_1.b.check()"
   ]
  },
  {
   "cell_type": "code",
   "execution_count": 8,
   "id": "9fc9160e",
   "metadata": {
    "execution": {
     "iopub.execute_input": "2022-03-29T08:47:42.459912Z",
     "iopub.status.busy": "2022-03-29T08:47:42.458966Z",
     "iopub.status.idle": "2022-03-29T08:47:42.462554Z",
     "shell.execute_reply": "2022-03-29T08:47:42.463139Z",
     "shell.execute_reply.started": "2022-03-29T08:19:29.772951Z"
    },
    "papermill": {
     "duration": 0.04634,
     "end_time": "2022-03-29T08:47:42.463308",
     "exception": false,
     "start_time": "2022-03-29T08:47:42.416968",
     "status": "completed"
    },
    "tags": []
   },
   "outputs": [],
   "source": [
    "#step_1.b.hint()"
   ]
  },
  {
   "cell_type": "markdown",
   "id": "80072de6",
   "metadata": {
    "papermill": {
     "duration": 0.038399,
     "end_time": "2022-03-29T08:47:42.540313",
     "exception": false,
     "start_time": "2022-03-29T08:47:42.501914",
     "status": "completed"
    },
    "tags": []
   },
   "source": [
    "To compare different approaches to dealing with missing values, you'll use the same `score_dataset()` function from the tutorial.  This function reports the [mean absolute error](https://en.wikipedia.org/wiki/Mean_absolute_error) (MAE) from a random forest model."
   ]
  },
  {
   "cell_type": "code",
   "execution_count": 9,
   "id": "24e4b949",
   "metadata": {
    "execution": {
     "iopub.execute_input": "2022-03-29T08:47:42.621785Z",
     "iopub.status.busy": "2022-03-29T08:47:42.620831Z",
     "iopub.status.idle": "2022-03-29T08:47:42.836956Z",
     "shell.execute_reply": "2022-03-29T08:47:42.836392Z",
     "shell.execute_reply.started": "2022-03-29T08:19:29.780436Z"
    },
    "papermill": {
     "duration": 0.258291,
     "end_time": "2022-03-29T08:47:42.837116",
     "exception": false,
     "start_time": "2022-03-29T08:47:42.578825",
     "status": "completed"
    },
    "tags": []
   },
   "outputs": [],
   "source": [
    "from sklearn.ensemble import RandomForestRegressor\n",
    "from sklearn.metrics import mean_absolute_error\n",
    "\n",
    "# Function for comparing different approaches\n",
    "def score_dataset(X_train, X_valid, y_train, y_valid):\n",
    "    model = RandomForestRegressor(n_estimators=100, random_state=0)\n",
    "    model.fit(X_train, y_train)\n",
    "    preds = model.predict(X_valid)\n",
    "    return mean_absolute_error(y_valid, preds)"
   ]
  },
  {
   "cell_type": "markdown",
   "id": "f04fdb2a",
   "metadata": {
    "papermill": {
     "duration": 0.038246,
     "end_time": "2022-03-29T08:47:42.913969",
     "exception": false,
     "start_time": "2022-03-29T08:47:42.875723",
     "status": "completed"
    },
    "tags": []
   },
   "source": [
    "# Step 2: Drop columns with missing values\n",
    "\n",
    "In this step, you'll preprocess the data in `X_train` and `X_valid` to remove columns with missing values.  Set the preprocessed DataFrames to `reduced_X_train` and `reduced_X_valid`, respectively.  "
   ]
  },
  {
   "cell_type": "code",
   "execution_count": 10,
   "id": "d4440254",
   "metadata": {
    "execution": {
     "iopub.execute_input": "2022-03-29T08:47:43.000975Z",
     "iopub.status.busy": "2022-03-29T08:47:43.000266Z",
     "iopub.status.idle": "2022-03-29T08:47:43.019091Z",
     "shell.execute_reply": "2022-03-29T08:47:43.018500Z",
     "shell.execute_reply.started": "2022-03-29T08:19:29.995865Z"
    },
    "papermill": {
     "duration": 0.06588,
     "end_time": "2022-03-29T08:47:43.019261",
     "exception": false,
     "start_time": "2022-03-29T08:47:42.953381",
     "status": "completed"
    },
    "tags": []
   },
   "outputs": [
    {
     "data": {
      "application/javascript": [
       "parent.postMessage({\"jupyterEvent\": \"custom.exercise_interaction\", \"data\": {\"outcomeType\": 1, \"valueTowardsCompletion\": 1.0, \"interactionType\": 1, \"questionType\": 2, \"questionId\": \"2_DropMissing\", \"learnToolsVersion\": \"0.3.4\", \"failureMessage\": \"\", \"exceptionClass\": \"\", \"trace\": \"\"}}, \"*\")"
      ],
      "text/plain": [
       "<IPython.core.display.Javascript object>"
      ]
     },
     "metadata": {},
     "output_type": "display_data"
    },
    {
     "data": {
      "text/markdown": [
       "<span style=\"color:#33cc33\">Correct</span>"
      ],
      "text/plain": [
       "Correct"
      ]
     },
     "metadata": {},
     "output_type": "display_data"
    }
   ],
   "source": [
    "import numpy as np\n",
    "\n",
    "# Fill in the line below: get names of columns with missing values\n",
    "missingvaluescolumns = missing_val_count_by_column[missing_val_count_by_column > 0].keys(); # Your code here\n",
    "goodcolumns = missing_val_count_by_column[missing_val_count_by_column == 0].keys();\n",
    "# Fill in the lines below: drop columns in training and validation data\n",
    "reduced_X_train = X_train[goodcolumns]\n",
    "reduced_X_valid = X_valid[goodcolumns]\n",
    "\n",
    "# Check your answers\n",
    "# items only to run on kaggle notebook, not for local run\n",
    "if os.environ.get('KAGGLE_KERNEL_RUN_TYPE','') != '':\n",
    "    step_2.check()\n"
   ]
  },
  {
   "cell_type": "code",
   "execution_count": 11,
   "id": "ffbd8d2a",
   "metadata": {
    "execution": {
     "iopub.execute_input": "2022-03-29T08:47:43.105617Z",
     "iopub.status.busy": "2022-03-29T08:47:43.104925Z",
     "iopub.status.idle": "2022-03-29T08:47:43.107750Z",
     "shell.execute_reply": "2022-03-29T08:47:43.107219Z",
     "shell.execute_reply.started": "2022-03-29T08:19:30.020999Z"
    },
    "papermill": {
     "duration": 0.047416,
     "end_time": "2022-03-29T08:47:43.107887",
     "exception": false,
     "start_time": "2022-03-29T08:47:43.060471",
     "status": "completed"
    },
    "tags": []
   },
   "outputs": [],
   "source": [
    "# Lines below will give you a hint or solution code\n",
    "#step_2.hint()\n",
    "#step_2.solution()"
   ]
  },
  {
   "cell_type": "markdown",
   "id": "4d2aa5ff",
   "metadata": {
    "papermill": {
     "duration": 0.040057,
     "end_time": "2022-03-29T08:47:43.187646",
     "exception": false,
     "start_time": "2022-03-29T08:47:43.147589",
     "status": "completed"
    },
    "tags": []
   },
   "source": [
    "Run the next code cell without changes to obtain the MAE for this approach."
   ]
  },
  {
   "cell_type": "code",
   "execution_count": 12,
   "id": "b5944f3d",
   "metadata": {
    "execution": {
     "iopub.execute_input": "2022-03-29T08:47:43.273990Z",
     "iopub.status.busy": "2022-03-29T08:47:43.269871Z",
     "iopub.status.idle": "2022-03-29T08:47:44.361305Z",
     "shell.execute_reply": "2022-03-29T08:47:44.361784Z",
     "shell.execute_reply.started": "2022-03-29T08:19:30.029499Z"
    },
    "papermill": {
     "duration": 1.13483,
     "end_time": "2022-03-29T08:47:44.361968",
     "exception": false,
     "start_time": "2022-03-29T08:47:43.227138",
     "status": "completed"
    },
    "tags": []
   },
   "outputs": [
    {
     "name": "stdout",
     "output_type": "stream",
     "text": [
      "MAE (Drop columns with missing values):\n",
      "17837.82570776256\n"
     ]
    }
   ],
   "source": [
    "print(\"MAE (Drop columns with missing values):\")\n",
    "print(score_dataset(reduced_X_train, reduced_X_valid, y_train, y_valid))"
   ]
  },
  {
   "cell_type": "markdown",
   "id": "9e0265ac",
   "metadata": {
    "papermill": {
     "duration": 0.04071,
     "end_time": "2022-03-29T08:47:44.442975",
     "exception": false,
     "start_time": "2022-03-29T08:47:44.402265",
     "status": "completed"
    },
    "tags": []
   },
   "source": [
    "# Step 3: Imputation\n",
    "\n",
    "### Part A\n",
    "\n",
    "Use the next code cell to impute missing values with the mean value along each column.  Set the preprocessed DataFrames to `imputed_X_train` and `imputed_X_valid`.  Make sure that the column names match those in `X_train` and `X_valid`."
   ]
  },
  {
   "cell_type": "code",
   "execution_count": 13,
   "id": "0fcd481a",
   "metadata": {
    "execution": {
     "iopub.execute_input": "2022-03-29T08:47:44.530877Z",
     "iopub.status.busy": "2022-03-29T08:47:44.530113Z",
     "iopub.status.idle": "2022-03-29T08:47:45.769541Z",
     "shell.execute_reply": "2022-03-29T08:47:45.770054Z",
     "shell.execute_reply.started": "2022-03-29T08:19:31.12512Z"
    },
    "papermill": {
     "duration": 1.287113,
     "end_time": "2022-03-29T08:47:45.770225",
     "exception": false,
     "start_time": "2022-03-29T08:47:44.483112",
     "status": "completed"
    },
    "tags": []
   },
   "outputs": [
    {
     "name": "stdout",
     "output_type": "stream",
     "text": [
      "MAE from Approach 2 (Imputation):\n",
      "18062.894611872147\n"
     ]
    },
    {
     "data": {
      "application/javascript": [
       "parent.postMessage({\"jupyterEvent\": \"custom.exercise_interaction\", \"data\": {\"outcomeType\": 1, \"valueTowardsCompletion\": 1.0, \"interactionType\": 1, \"questionType\": 2, \"questionId\": \"3.1_ImputeCode\", \"learnToolsVersion\": \"0.3.4\", \"failureMessage\": \"\", \"exceptionClass\": \"\", \"trace\": \"\"}}, \"*\")"
      ],
      "text/plain": [
       "<IPython.core.display.Javascript object>"
      ]
     },
     "metadata": {},
     "output_type": "display_data"
    },
    {
     "data": {
      "text/markdown": [
       "<span style=\"color:#33cc33\">Correct</span>"
      ],
      "text/plain": [
       "Correct"
      ]
     },
     "metadata": {},
     "output_type": "display_data"
    }
   ],
   "source": [
    "from sklearn.impute import SimpleImputer\n",
    "\n",
    "# Imputation\n",
    "my_imputer = SimpleImputer()\n",
    "imputed_X_train = pd.DataFrame(my_imputer.fit_transform(X_train))\n",
    "imputed_X_valid = pd.DataFrame(my_imputer.transform(X_valid))\n",
    "\n",
    "# Imputation removed column names; put them back\n",
    "imputed_X_train.columns = X_train.columns\n",
    "imputed_X_valid.columns = X_valid.columns\n",
    "\n",
    "print(\"MAE from Approach 2 (Imputation):\")\n",
    "print(score_dataset(imputed_X_train, imputed_X_valid, y_train, y_valid))\n",
    "\n",
    "\n",
    "# Check your answers\n",
    "# items only to run on kaggle notebook, not for local run\n",
    "if os.environ.get('KAGGLE_KERNEL_RUN_TYPE','') != '':\n",
    "    step_3.a.check()"
   ]
  },
  {
   "cell_type": "code",
   "execution_count": 14,
   "id": "991ab87f",
   "metadata": {
    "execution": {
     "iopub.execute_input": "2022-03-29T08:47:45.858773Z",
     "iopub.status.busy": "2022-03-29T08:47:45.857769Z",
     "iopub.status.idle": "2022-03-29T08:47:45.861149Z",
     "shell.execute_reply": "2022-03-29T08:47:45.861732Z",
     "shell.execute_reply.started": "2022-03-29T08:19:32.376379Z"
    },
    "papermill": {
     "duration": 0.049456,
     "end_time": "2022-03-29T08:47:45.861905",
     "exception": false,
     "start_time": "2022-03-29T08:47:45.812449",
     "status": "completed"
    },
    "tags": []
   },
   "outputs": [],
   "source": [
    "# Lines below will give you a hint or solution code\n",
    "#step_3.a.hint()\n",
    "#step_3.a.solution()"
   ]
  },
  {
   "cell_type": "markdown",
   "id": "12c105d4",
   "metadata": {
    "papermill": {
     "duration": 0.041977,
     "end_time": "2022-03-29T08:47:45.946104",
     "exception": false,
     "start_time": "2022-03-29T08:47:45.904127",
     "status": "completed"
    },
    "tags": []
   },
   "source": [
    "Run the next code cell without changes to obtain the MAE for this approach."
   ]
  },
  {
   "cell_type": "code",
   "execution_count": 15,
   "id": "d4ffdb12",
   "metadata": {
    "execution": {
     "iopub.execute_input": "2022-03-29T08:47:46.037686Z",
     "iopub.status.busy": "2022-03-29T08:47:46.036678Z",
     "iopub.status.idle": "2022-03-29T08:47:47.234837Z",
     "shell.execute_reply": "2022-03-29T08:47:47.235453Z",
     "shell.execute_reply.started": "2022-03-29T08:19:32.382Z"
    },
    "papermill": {
     "duration": 1.246992,
     "end_time": "2022-03-29T08:47:47.235632",
     "exception": false,
     "start_time": "2022-03-29T08:47:45.988640",
     "status": "completed"
    },
    "tags": []
   },
   "outputs": [
    {
     "name": "stdout",
     "output_type": "stream",
     "text": [
      "MAE (Imputation):\n",
      "18062.894611872147\n"
     ]
    }
   ],
   "source": [
    "print(\"MAE (Imputation):\")\n",
    "print(score_dataset(imputed_X_train, imputed_X_valid, y_train, y_valid))"
   ]
  },
  {
   "cell_type": "markdown",
   "id": "9623c85c",
   "metadata": {
    "papermill": {
     "duration": 0.042695,
     "end_time": "2022-03-29T08:47:47.321517",
     "exception": false,
     "start_time": "2022-03-29T08:47:47.278822",
     "status": "completed"
    },
    "tags": []
   },
   "source": [
    "### Part B\n",
    "\n",
    "Compare the MAE from each approach.  Does anything surprise you about the results?  Why do you think one approach performed better than the other?"
   ]
  },
  {
   "cell_type": "code",
   "execution_count": 16,
   "id": "7989c8a4",
   "metadata": {
    "execution": {
     "iopub.execute_input": "2022-03-29T08:47:47.411495Z",
     "iopub.status.busy": "2022-03-29T08:47:47.410430Z",
     "iopub.status.idle": "2022-03-29T08:47:47.418287Z",
     "shell.execute_reply": "2022-03-29T08:47:47.418724Z",
     "shell.execute_reply.started": "2022-03-29T08:19:33.593158Z"
    },
    "papermill": {
     "duration": 0.054432,
     "end_time": "2022-03-29T08:47:47.418891",
     "exception": false,
     "start_time": "2022-03-29T08:47:47.364459",
     "status": "completed"
    },
    "tags": []
   },
   "outputs": [
    {
     "data": {
      "application/javascript": [
       "parent.postMessage({\"jupyterEvent\": \"custom.exercise_interaction\", \"data\": {\"outcomeType\": 1, \"valueTowardsCompletion\": 1.0, \"interactionType\": 1, \"questionType\": 4, \"questionId\": \"3.2_ImputeThought\", \"learnToolsVersion\": \"0.3.4\", \"failureMessage\": \"\", \"exceptionClass\": \"\", \"trace\": \"\"}}, \"*\")"
      ],
      "text/plain": [
       "<IPython.core.display.Javascript object>"
      ]
     },
     "metadata": {},
     "output_type": "display_data"
    },
    {
     "data": {
      "text/markdown": [
       "<span style=\"color:#33cc33\">Correct:</span> \n",
       "\n",
       "Given that thre are so few missing values in the dataset, we'd expect imputation to perform better than dropping columns entirely.  However, we see that dropping columns performs slightly better!  While this can probably partially be attributed to noise in the dataset, another potential explanation is that the imputation method is not a great match to this dataset.  That is, maybe instead of filling in the mean value, it makes more sense to set every missing value to a value of 0, to fill in the most frequently encountered value, or to use some other method.  For instance, consider the `GarageYrBlt` column (which indicates the year that the garage was built).  It's likely that in some cases, a missing value could indicate a house that does not have a garage.  Does it make more sense to fill in the median value along each column in this case?  Or could we get better results by filling in the minimum value along each column?  It's not quite clear what's best in this case, but perhaps we can rule out some options immediately - for instance, setting missing values in this column to 0 is likely to yield horrible results!"
      ],
      "text/plain": [
       "Correct: \n",
       "\n",
       "Given that thre are so few missing values in the dataset, we'd expect imputation to perform better than dropping columns entirely.  However, we see that dropping columns performs slightly better!  While this can probably partially be attributed to noise in the dataset, another potential explanation is that the imputation method is not a great match to this dataset.  That is, maybe instead of filling in the mean value, it makes more sense to set every missing value to a value of 0, to fill in the most frequently encountered value, or to use some other method.  For instance, consider the `GarageYrBlt` column (which indicates the year that the garage was built).  It's likely that in some cases, a missing value could indicate a house that does not have a garage.  Does it make more sense to fill in the median value along each column in this case?  Or could we get better results by filling in the minimum value along each column?  It's not quite clear what's best in this case, but perhaps we can rule out some options immediately - for instance, setting missing values in this column to 0 is likely to yield horrible results!"
      ]
     },
     "metadata": {},
     "output_type": "display_data"
    }
   ],
   "source": [
    "# Check your answer (Run this code cell to receive credit!)\n",
    "# items only to run on kaggle notebook, not for local run\n",
    "if os.environ.get('KAGGLE_KERNEL_RUN_TYPE','') != '':\n",
    "    step_3.b.check()"
   ]
  },
  {
   "cell_type": "code",
   "execution_count": 17,
   "id": "2d740ee8",
   "metadata": {
    "execution": {
     "iopub.execute_input": "2022-03-29T08:47:47.511747Z",
     "iopub.status.busy": "2022-03-29T08:47:47.510793Z",
     "iopub.status.idle": "2022-03-29T08:47:47.513875Z",
     "shell.execute_reply": "2022-03-29T08:47:47.514422Z",
     "shell.execute_reply.started": "2022-03-29T08:19:33.602424Z"
    },
    "papermill": {
     "duration": 0.05118,
     "end_time": "2022-03-29T08:47:47.514589",
     "exception": false,
     "start_time": "2022-03-29T08:47:47.463409",
     "status": "completed"
    },
    "tags": []
   },
   "outputs": [],
   "source": [
    "#step_3.b.hint()"
   ]
  },
  {
   "cell_type": "markdown",
   "id": "0b0182be",
   "metadata": {
    "papermill": {
     "duration": 0.046105,
     "end_time": "2022-03-29T08:47:47.604952",
     "exception": false,
     "start_time": "2022-03-29T08:47:47.558847",
     "status": "completed"
    },
    "tags": []
   },
   "source": [
    "# Step 4: Generate test predictions\n",
    "\n",
    "In this final step, you'll use any approach of your choosing to deal with missing values.  Once you've preprocessed the training and validation features, you'll train and evaluate a random forest model.  Then, you'll preprocess the test data before generating predictions that can be submitted to the competition!\n",
    "\n",
    "### Part A\n",
    "\n",
    "Use the next code cell to preprocess the training and validation data.  Set the preprocessed DataFrames to `final_X_train` and `final_X_valid`.  **You can use any approach of your choosing here!**  in order for this step to be marked as correct, you need only ensure:\n",
    "- the preprocessed DataFrames have the same number of columns,\n",
    "- the preprocessed DataFrames have no missing values, \n",
    "- `final_X_train` and `y_train` have the same number of rows, and\n",
    "- `final_X_valid` and `y_valid` have the same number of rows."
   ]
  },
  {
   "cell_type": "code",
   "execution_count": 18,
   "id": "17cb2331",
   "metadata": {
    "execution": {
     "iopub.execute_input": "2022-03-29T08:47:47.700251Z",
     "iopub.status.busy": "2022-03-29T08:47:47.699461Z",
     "iopub.status.idle": "2022-03-29T08:47:47.718267Z",
     "shell.execute_reply": "2022-03-29T08:47:47.718860Z",
     "shell.execute_reply.started": "2022-03-29T08:19:33.611034Z"
    },
    "papermill": {
     "duration": 0.069858,
     "end_time": "2022-03-29T08:47:47.719047",
     "exception": false,
     "start_time": "2022-03-29T08:47:47.649189",
     "status": "completed"
    },
    "tags": []
   },
   "outputs": [
    {
     "data": {
      "application/javascript": [
       "parent.postMessage({\"jupyterEvent\": \"custom.exercise_interaction\", \"data\": {\"outcomeType\": 1, \"valueTowardsCompletion\": 1.0, \"interactionType\": 1, \"questionType\": 2, \"questionId\": \"4.1_PredsCodeA\", \"learnToolsVersion\": \"0.3.4\", \"failureMessage\": \"\", \"exceptionClass\": \"\", \"trace\": \"\"}}, \"*\")"
      ],
      "text/plain": [
       "<IPython.core.display.Javascript object>"
      ]
     },
     "metadata": {},
     "output_type": "display_data"
    },
    {
     "data": {
      "text/markdown": [
       "<span style=\"color:#33cc33\">Correct</span>"
      ],
      "text/plain": [
       "Correct"
      ]
     },
     "metadata": {},
     "output_type": "display_data"
    }
   ],
   "source": [
    "# Preprocessed training and validation features\n",
    "final_X_train = X_train[goodcolumns]\n",
    "final_X_valid = X_valid[goodcolumns]\n",
    "\n",
    "# Check your answers\n",
    "# items only to run on kaggle notebook, not for local run\n",
    "if os.environ.get('KAGGLE_KERNEL_RUN_TYPE','') != '':\n",
    "    step_4.a.check()"
   ]
  },
  {
   "cell_type": "code",
   "execution_count": 19,
   "id": "f7f7ba93",
   "metadata": {
    "execution": {
     "iopub.execute_input": "2022-03-29T08:47:47.817168Z",
     "iopub.status.busy": "2022-03-29T08:47:47.816481Z",
     "iopub.status.idle": "2022-03-29T08:47:47.823189Z",
     "shell.execute_reply": "2022-03-29T08:47:47.823764Z",
     "shell.execute_reply.started": "2022-03-29T08:19:33.637733Z"
    },
    "papermill": {
     "duration": 0.059416,
     "end_time": "2022-03-29T08:47:47.823947",
     "exception": false,
     "start_time": "2022-03-29T08:47:47.764531",
     "status": "completed"
    },
    "tags": []
   },
   "outputs": [
    {
     "data": {
      "application/javascript": [
       "parent.postMessage({\"jupyterEvent\": \"custom.exercise_interaction\", \"data\": {\"interactionType\": 2, \"questionType\": 2, \"questionId\": \"4.1_PredsCodeA\", \"learnToolsVersion\": \"0.3.4\", \"valueTowardsCompletion\": 0.0, \"failureMessage\": \"\", \"exceptionClass\": \"\", \"trace\": \"\", \"outcomeType\": 4}}, \"*\")"
      ],
      "text/plain": [
       "<IPython.core.display.Javascript object>"
      ]
     },
     "metadata": {},
     "output_type": "display_data"
    },
    {
     "data": {
      "text/markdown": [
       "<span style=\"color:#3366cc\">Hint:</span> Use any approach of your choosing to deal with missing values in the data.  For inspiration, check out the code from the tutorial!"
      ],
      "text/plain": [
       "Hint: Use any approach of your choosing to deal with missing values in the data.  For inspiration, check out the code from the tutorial!"
      ]
     },
     "metadata": {},
     "output_type": "display_data"
    },
    {
     "data": {
      "application/javascript": [
       "parent.postMessage({\"jupyterEvent\": \"custom.exercise_interaction\", \"data\": {\"interactionType\": 3, \"questionType\": 2, \"questionId\": \"4.1_PredsCodeA\", \"learnToolsVersion\": \"0.3.4\", \"valueTowardsCompletion\": 0.0, \"failureMessage\": \"\", \"exceptionClass\": \"\", \"trace\": \"\", \"outcomeType\": 4}}, \"*\")"
      ],
      "text/plain": [
       "<IPython.core.display.Javascript object>"
      ]
     },
     "metadata": {},
     "output_type": "display_data"
    },
    {
     "data": {
      "text/markdown": [
       "<span style=\"color:#33cc99\">Solution:</span> \n",
       "```python\n",
       "# Imputation\n",
       "final_imputer = SimpleImputer(strategy='median')\n",
       "final_X_train = pd.DataFrame(final_imputer.fit_transform(X_train))\n",
       "final_X_valid = pd.DataFrame(final_imputer.transform(X_valid))\n",
       "\n",
       "# Imputation removed column names; put them back\n",
       "final_X_train.columns = X_train.columns\n",
       "final_X_valid.columns = X_valid.columns\n",
       "\n",
       "```"
      ],
      "text/plain": [
       "Solution: \n",
       "```python\n",
       "# Imputation\n",
       "final_imputer = SimpleImputer(strategy='median')\n",
       "final_X_train = pd.DataFrame(final_imputer.fit_transform(X_train))\n",
       "final_X_valid = pd.DataFrame(final_imputer.transform(X_valid))\n",
       "\n",
       "# Imputation removed column names; put them back\n",
       "final_X_train.columns = X_train.columns\n",
       "final_X_valid.columns = X_valid.columns\n",
       "\n",
       "```"
      ]
     },
     "metadata": {},
     "output_type": "display_data"
    }
   ],
   "source": [
    "# Lines below will give you a hint or solution code\n",
    "step_4.a.hint()\n",
    "step_4.a.solution()"
   ]
  },
  {
   "cell_type": "markdown",
   "id": "3ea0e625",
   "metadata": {
    "papermill": {
     "duration": 0.048938,
     "end_time": "2022-03-29T08:47:47.921362",
     "exception": false,
     "start_time": "2022-03-29T08:47:47.872424",
     "status": "completed"
    },
    "tags": []
   },
   "source": [
    "Run the next code cell to train and evaluate a random forest model.  (*Note that we don't use the `score_dataset()` function above, because we will soon use the trained model to generate test predictions!*)"
   ]
  },
  {
   "cell_type": "code",
   "execution_count": 20,
   "id": "a52da037",
   "metadata": {
    "execution": {
     "iopub.execute_input": "2022-03-29T08:47:48.021846Z",
     "iopub.status.busy": "2022-03-29T08:47:48.021144Z",
     "iopub.status.idle": "2022-03-29T08:47:49.145157Z",
     "shell.execute_reply": "2022-03-29T08:47:49.144355Z",
     "shell.execute_reply.started": "2022-03-29T08:19:33.652685Z"
    },
    "papermill": {
     "duration": 1.175286,
     "end_time": "2022-03-29T08:47:49.145346",
     "exception": false,
     "start_time": "2022-03-29T08:47:47.970060",
     "status": "completed"
    },
    "tags": []
   },
   "outputs": [
    {
     "name": "stdout",
     "output_type": "stream",
     "text": [
      "MAE (Your approach):\n",
      "17837.82570776256\n"
     ]
    }
   ],
   "source": [
    "# Define and fit model\n",
    "model = RandomForestRegressor(n_estimators=100, random_state=0)\n",
    "model.fit(final_X_train, y_train)\n",
    "\n",
    "# Get validation predictions and MAE\n",
    "preds_valid = model.predict(final_X_valid)\n",
    "print(\"MAE (Your approach):\")\n",
    "print(mean_absolute_error(y_valid, preds_valid))"
   ]
  },
  {
   "cell_type": "markdown",
   "id": "c64b8747",
   "metadata": {
    "papermill": {
     "duration": 0.050397,
     "end_time": "2022-03-29T08:47:49.246974",
     "exception": false,
     "start_time": "2022-03-29T08:47:49.196577",
     "status": "completed"
    },
    "tags": []
   },
   "source": [
    "### Part B\n",
    "\n",
    "Use the next code cell to preprocess your test data.  Make sure that you use a method that agrees with how you preprocessed the training and validation data, and set the preprocessed test features to `final_X_test`.\n",
    "\n",
    "Then, use the preprocessed test features and the trained model to generate test predictions in `preds_test`.\n",
    "\n",
    "In order for this step to be marked correct, you need only ensure:\n",
    "- the preprocessed test DataFrame has no missing values, and\n",
    "- `final_X_test` has the same number of rows as `X_test`."
   ]
  },
  {
   "cell_type": "code",
   "execution_count": 21,
   "id": "c68015ee",
   "metadata": {
    "execution": {
     "iopub.execute_input": "2022-03-29T08:47:49.352575Z",
     "iopub.status.busy": "2022-03-29T08:47:49.351854Z",
     "iopub.status.idle": "2022-03-29T08:47:49.397044Z",
     "shell.execute_reply": "2022-03-29T08:47:49.397643Z",
     "shell.execute_reply.started": "2022-03-29T08:19:34.733186Z"
    },
    "papermill": {
     "duration": 0.101985,
     "end_time": "2022-03-29T08:47:49.397825",
     "exception": false,
     "start_time": "2022-03-29T08:47:49.295840",
     "status": "completed"
    },
    "tags": []
   },
   "outputs": [
    {
     "data": {
      "application/javascript": [
       "parent.postMessage({\"jupyterEvent\": \"custom.exercise_interaction\", \"data\": {\"outcomeType\": 1, \"valueTowardsCompletion\": 1.0, \"interactionType\": 1, \"questionType\": 2, \"questionId\": \"4.2_PredsCodeB\", \"learnToolsVersion\": \"0.3.4\", \"failureMessage\": \"\", \"exceptionClass\": \"\", \"trace\": \"\"}}, \"*\")"
      ],
      "text/plain": [
       "<IPython.core.display.Javascript object>"
      ]
     },
     "metadata": {},
     "output_type": "display_data"
    },
    {
     "data": {
      "text/markdown": [
       "<span style=\"color:#33cc33\">Correct</span>"
      ],
      "text/plain": [
       "Correct"
      ]
     },
     "metadata": {},
     "output_type": "display_data"
    }
   ],
   "source": [
    "# Fill in the line below: preprocess test data\n",
    "final_X_test = (X_test[goodcolumns]).fillna(0)\n",
    "\n",
    "# Fill in the line below: get test predictions\n",
    "preds_test = model.predict(final_X_test)\n",
    "\n",
    "# Check your answers\n",
    "# items only to run on kaggle notebook, not for local run\n",
    "if os.environ.get('KAGGLE_KERNEL_RUN_TYPE','') != '':\n",
    "    step_4.b.check()"
   ]
  },
  {
   "cell_type": "code",
   "execution_count": 22,
   "id": "ff45b364",
   "metadata": {
    "execution": {
     "iopub.execute_input": "2022-03-29T08:47:49.503554Z",
     "iopub.status.busy": "2022-03-29T08:47:49.502860Z",
     "iopub.status.idle": "2022-03-29T08:47:49.511151Z",
     "shell.execute_reply": "2022-03-29T08:47:49.511662Z",
     "shell.execute_reply.started": "2022-03-29T08:19:34.787241Z"
    },
    "papermill": {
     "duration": 0.062843,
     "end_time": "2022-03-29T08:47:49.511838",
     "exception": false,
     "start_time": "2022-03-29T08:47:49.448995",
     "status": "completed"
    },
    "tags": []
   },
   "outputs": [
    {
     "data": {
      "application/javascript": [
       "parent.postMessage({\"jupyterEvent\": \"custom.exercise_interaction\", \"data\": {\"interactionType\": 2, \"questionType\": 2, \"questionId\": \"4.2_PredsCodeB\", \"learnToolsVersion\": \"0.3.4\", \"valueTowardsCompletion\": 0.0, \"failureMessage\": \"\", \"exceptionClass\": \"\", \"trace\": \"\", \"outcomeType\": 4}}, \"*\")"
      ],
      "text/plain": [
       "<IPython.core.display.Javascript object>"
      ]
     },
     "metadata": {},
     "output_type": "display_data"
    },
    {
     "data": {
      "text/markdown": [
       "<span style=\"color:#3366cc\">Hint:</span> After preprocessing the test data, you can get the model's predictions by using `model.predict()`."
      ],
      "text/plain": [
       "Hint: After preprocessing the test data, you can get the model's predictions by using `model.predict()`."
      ]
     },
     "metadata": {},
     "output_type": "display_data"
    },
    {
     "data": {
      "application/javascript": [
       "parent.postMessage({\"jupyterEvent\": \"custom.exercise_interaction\", \"data\": {\"interactionType\": 3, \"questionType\": 2, \"questionId\": \"4.2_PredsCodeB\", \"learnToolsVersion\": \"0.3.4\", \"valueTowardsCompletion\": 0.0, \"failureMessage\": \"\", \"exceptionClass\": \"\", \"trace\": \"\", \"outcomeType\": 4}}, \"*\")"
      ],
      "text/plain": [
       "<IPython.core.display.Javascript object>"
      ]
     },
     "metadata": {},
     "output_type": "display_data"
    },
    {
     "data": {
      "text/markdown": [
       "<span style=\"color:#33cc99\">Solution:</span> \n",
       "```python\n",
       "# Preprocess test data\n",
       "final_X_test = pd.DataFrame(final_imputer.transform(X_test))\n",
       "\n",
       "# Get test predictions\n",
       "preds_test = model.predict(final_X_test)\n",
       "\n",
       "```"
      ],
      "text/plain": [
       "Solution: \n",
       "```python\n",
       "# Preprocess test data\n",
       "final_X_test = pd.DataFrame(final_imputer.transform(X_test))\n",
       "\n",
       "# Get test predictions\n",
       "preds_test = model.predict(final_X_test)\n",
       "\n",
       "```"
      ]
     },
     "metadata": {},
     "output_type": "display_data"
    }
   ],
   "source": [
    "# Lines below will give you a hint or solution code\n",
    "step_4.b.hint()\n",
    "step_4.b.solution()"
   ]
  },
  {
   "cell_type": "markdown",
   "id": "cc784970",
   "metadata": {
    "papermill": {
     "duration": 0.052664,
     "end_time": "2022-03-29T08:47:49.619439",
     "exception": false,
     "start_time": "2022-03-29T08:47:49.566775",
     "status": "completed"
    },
    "tags": []
   },
   "source": [
    "Run the next code cell without changes to save your results to a CSV file that can be submitted directly to the competition."
   ]
  },
  {
   "cell_type": "code",
   "execution_count": 23,
   "id": "88b6d61a",
   "metadata": {
    "execution": {
     "iopub.execute_input": "2022-03-29T08:47:49.728504Z",
     "iopub.status.busy": "2022-03-29T08:47:49.727827Z",
     "iopub.status.idle": "2022-03-29T08:47:49.741154Z",
     "shell.execute_reply": "2022-03-29T08:47:49.740487Z",
     "shell.execute_reply.started": "2022-03-29T08:19:34.798565Z"
    },
    "papermill": {
     "duration": 0.069139,
     "end_time": "2022-03-29T08:47:49.741319",
     "exception": false,
     "start_time": "2022-03-29T08:47:49.672180",
     "status": "completed"
    },
    "tags": []
   },
   "outputs": [],
   "source": [
    "# Save test predictions to file\n",
    "output = pd.DataFrame({'Id': X_test.index,\n",
    "                       'SalePrice': preds_test})\n",
    "output.to_csv('submission.csv', index=False)"
   ]
  },
  {
   "cell_type": "markdown",
   "id": "2f390aaf",
   "metadata": {
    "papermill": {
     "duration": 0.052506,
     "end_time": "2022-03-29T08:47:49.847978",
     "exception": false,
     "start_time": "2022-03-29T08:47:49.795472",
     "status": "completed"
    },
    "tags": []
   },
   "source": [
    "# Submit your results\n",
    "\n",
    "Once you have successfully completed Step 4, you're ready to submit your results to the leaderboard!  (_You also learned how to do this in the previous exercise.  If you need a reminder of how to do this, please use the instructions below._)  \n",
    "\n",
    "First, you'll need to join the competition if you haven't already.  So open a new window by clicking on [this link](https://www.kaggle.com/c/home-data-for-ml-course).  Then click on the **Join Competition** button.\n",
    "\n",
    "![join competition image](https://i.imgur.com/wLmFtH3.png)\n",
    "\n",
    "Next, follow the instructions below:\n",
    "1. Begin by clicking on the **Save Version** button in the top right corner of the window.  This will generate a pop-up window.  \n",
    "2. Ensure that the **Save and Run All** option is selected, and then click on the **Save** button.\n",
    "3. This generates a window in the bottom left corner of the notebook.  After it has finished running, click on the number to the right of the **Save Version** button.  This pulls up a list of versions on the right of the screen.  Click on the ellipsis **(...)** to the right of the most recent version, and select **Open in Viewer**.  This brings you into view mode of the same page. You will need to scroll down to get back to these instructions.\n",
    "4. Click on the **Output** tab on the right of the screen.  Then, click on the file you would like to submit, and click on the **Submit** button to submit your results to the leaderboard.\n",
    "\n",
    "You have now successfully submitted to the competition!\n",
    "\n",
    "If you want to keep working to improve your performance, select the **Edit** button in the top right of the screen. Then you can change your code and repeat the process. There's a lot of room to improve, and you will climb up the leaderboard as you work.\n",
    "\n",
    "\n",
    "# Keep going\n",
    "\n",
    "Move on to learn what **[categorical variables](https://www.kaggle.com/alexisbcook/categorical-variables)** are, along with how to incorporate them into your machine learning models.  Categorical variables are very common in real-world data, but you'll get an error if you try to plug them into your models without processing them first!"
   ]
  },
  {
   "cell_type": "markdown",
   "id": "c7e64888",
   "metadata": {
    "papermill": {
     "duration": 0.05314,
     "end_time": "2022-03-29T08:47:49.953799",
     "exception": false,
     "start_time": "2022-03-29T08:47:49.900659",
     "status": "completed"
    },
    "tags": []
   },
   "source": [
    "---\n",
    "\n",
    "\n",
    "\n",
    "\n",
    "*Have questions or comments? Visit the [course discussion forum](https://www.kaggle.com/learn/intermediate-machine-learning/discussion) to chat with other learners.*"
   ]
  }
 ],
 "metadata": {
  "kernelspec": {
   "display_name": "Python 3",
   "language": "python",
   "name": "python3"
  },
  "language_info": {
   "codemirror_mode": {
    "name": "ipython",
    "version": 3
   },
   "file_extension": ".py",
   "mimetype": "text/x-python",
   "name": "python",
   "nbconvert_exporter": "python",
   "pygments_lexer": "ipython3",
   "version": "3.7.12"
  },
  "papermill": {
   "default_parameters": {},
   "duration": 21.060671,
   "end_time": "2022-03-29T08:47:50.717105",
   "environment_variables": {},
   "exception": null,
   "input_path": "__notebook__.ipynb",
   "output_path": "__notebook__.ipynb",
   "parameters": {},
   "start_time": "2022-03-29T08:47:29.656434",
   "version": "2.3.3"
  }
 },
 "nbformat": 4,
 "nbformat_minor": 5
}
