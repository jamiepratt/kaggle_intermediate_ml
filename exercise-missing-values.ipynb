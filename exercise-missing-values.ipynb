{
 "metadata": {
  "kernelspec": {
   "language": "python",
   "display_name": "Python 3",
   "name": "python3"
  },
  "language_info": {
   "pygments_lexer": "ipython3",
   "nbconvert_exporter": "python",
   "version": "3.6.4",
   "file_extension": ".py",
   "codemirror_mode": {
    "name": "ipython",
    "version": 3
   },
   "name": "python",
   "mimetype": "text/x-python"
  }
 },
 "nbformat_minor": 4,
 "nbformat": 4,
 "cells": [
  {
   "cell_type": "markdown",
   "source": [
    "**This notebook is an exercise in the [Intermediate Machine Learning](https://www.kaggle.com/learn/intermediate-machine-learning) course.  You can reference the tutorial at [this link](https://www.kaggle.com/alexisbcook/missing-values).**\n",
    "\n",
    "---\n"
   ],
   "metadata": {}
  },
  {
   "cell_type": "markdown",
   "source": [
    "Now it's your turn to test your new knowledge of **missing values** handling. You'll probably find it makes a big difference.\n",
    "\n",
    "# Setup\n",
    "\n",
    "The questions will give you feedback on your work. Run the following cell to set up the feedback system."
   ],
   "metadata": {}
  },
  {
   "cell_type": "code",
   "source": [
    "# Set up code checking\n",
    "import os\n",
    "# items only to run on kaggle notebook, not for local run\n",
    "from typing import Union, Any\n",
    "\n",
    "if os.environ.get('KAGGLE_KERNEL_RUN_TYPE','') != '':\n",
    "    if not os.path.exists(\"../input/train.csv\"):\n",
    "        os.symlink(\"../input/home-data-for-ml-course/train.csv\", \"../input/train.csv\")  \n",
    "        os.symlink(\"../input/home-data-for-ml-course/test.csv\", \"../input/test.csv\") \n",
    "    from learntools.core import binder\n",
    "    binder.bind(globals())\n",
    "    from learntools.ml_intermediate.ex2 import *\n",
    "print(\"Setup Complete\")"
   ],
   "metadata": {
    "execution": {
     "iopub.status.busy": "2022-03-27T13:16:45.192602Z",
     "iopub.execute_input": "2022-03-27T13:16:45.192912Z",
     "iopub.status.idle": "2022-03-27T13:16:45.271288Z",
     "shell.execute_reply.started": "2022-03-27T13:16:45.192842Z",
     "shell.execute_reply": "2022-03-27T13:16:45.270162Z"
    },
    "trusted": true
   },
   "execution_count": 1,
   "outputs": [
    {
     "name": "stdout",
     "text": "Setup Complete\n",
     "output_type": "stream"
    }
   ]
  },
  {
   "cell_type": "markdown",
   "source": [
    "In this exercise, you will work with data from the [Housing Prices Competition for Kaggle Learn Users](https://www.kaggle.com/c/home-data-for-ml-course). \n",
    "\n",
    "![Ames Housing dataset image](https://i.imgur.com/lTJVG4e.png)\n",
    "\n",
    "Run the next code cell without changes to load the training and validation sets in `X_train`, `X_valid`, `y_train`, and `y_valid`.  The test set is loaded in `X_test`."
   ],
   "metadata": {}
  },
  {
   "cell_type": "code",
   "source": [
    "import pandas as pd\n",
    "from sklearn.model_selection import train_test_split\n",
    "\n",
    "# Read the data\n",
    "X_full = pd.read_csv('../input/train.csv', index_col='Id')\n",
    "X_test_full = pd.read_csv('../input/test.csv', index_col='Id')\n",
    "\n",
    "# Remove rows with missing target, separate target from predictors\n",
    "X_full.dropna(axis=0, subset=['SalePrice'], inplace=True)\n",
    "y = X_full.SalePrice\n",
    "X_full.drop(['SalePrice'], axis=1, inplace=True)\n",
    "\n",
    "# To keep things simple, we'll use only numerical predictors\n",
    "X = X_full.select_dtypes(exclude=['object'])\n",
    "X_test = X_test_full.select_dtypes(exclude=['object'])\n",
    "\n",
    "# Break off validation set from training data\n",
    "X_train, X_valid, y_train, y_valid = train_test_split(X, y, train_size=0.8, test_size=0.2,\n",
    "                                                      random_state=0)"
   ],
   "metadata": {
    "execution": {
     "iopub.status.busy": "2022-03-27T13:16:45.272639Z",
     "iopub.execute_input": "2022-03-27T13:16:45.272997Z",
     "iopub.status.idle": "2022-03-27T13:16:46.499342Z",
     "shell.execute_reply.started": "2022-03-27T13:16:45.272966Z",
     "shell.execute_reply": "2022-03-27T13:16:46.498458Z"
    },
    "trusted": true
   },
   "execution_count": 2,
   "outputs": []
  },
  {
   "cell_type": "markdown",
   "source": [
    "Use the next code cell to print the first five rows of the data."
   ],
   "metadata": {}
  },
  {
   "cell_type": "code",
   "source": [
    "X_train.head()"
   ],
   "metadata": {
    "execution": {
     "iopub.status.busy": "2022-03-27T13:16:46.501342Z",
     "iopub.execute_input": "2022-03-27T13:16:46.501612Z",
     "iopub.status.idle": "2022-03-27T13:16:46.531550Z",
     "shell.execute_reply.started": "2022-03-27T13:16:46.501583Z",
     "shell.execute_reply": "2022-03-27T13:16:46.530968Z"
    },
    "trusted": true
   },
   "execution_count": 3,
   "outputs": [
    {
     "execution_count": 3,
     "output_type": "execute_result",
     "data": {
      "text/plain": "     MSSubClass  LotFrontage  LotArea  OverallQual  OverallCond  YearBuilt  \\\nId                                                                           \n619          20         90.0    11694            9            5       2007   \n871          20         60.0     6600            5            5       1962   \n93           30         80.0    13360            5            7       1921   \n818          20          NaN    13265            8            5       2002   \n303          20        118.0    13704            7            5       2001   \n\n     YearRemodAdd  MasVnrArea  BsmtFinSF1  BsmtFinSF2  ...  GarageArea  \\\nId                                                     ...               \n619          2007       452.0          48           0  ...         774   \n871          1962         0.0           0           0  ...         308   \n93           2006         0.0         713           0  ...         432   \n818          2002       148.0        1218           0  ...         857   \n303          2002       150.0           0           0  ...         843   \n\n     WoodDeckSF  OpenPorchSF  EnclosedPorch  3SsnPorch  ScreenPorch  PoolArea  \\\nId                                                                              \n619           0          108              0          0          260         0   \n871           0            0              0          0            0         0   \n93            0            0             44          0            0         0   \n818         150           59              0          0            0         0   \n303         468           81              0          0            0         0   \n\n     MiscVal  MoSold  YrSold  \nId                            \n619        0       7    2007  \n871        0       8    2009  \n93         0       8    2009  \n818        0       7    2008  \n303        0       1    2006  \n\n[5 rows x 36 columns]",
      "text/html": "<div>\n<style scoped>\n    .dataframe tbody tr th:only-of-type {\n        vertical-align: middle;\n    }\n\n    .dataframe tbody tr th {\n        vertical-align: top;\n    }\n\n    .dataframe thead th {\n        text-align: right;\n    }\n</style>\n<table border=\"1\" class=\"dataframe\">\n  <thead>\n    <tr style=\"text-align: right;\">\n      <th></th>\n      <th>MSSubClass</th>\n      <th>LotFrontage</th>\n      <th>LotArea</th>\n      <th>OverallQual</th>\n      <th>OverallCond</th>\n      <th>YearBuilt</th>\n      <th>YearRemodAdd</th>\n      <th>MasVnrArea</th>\n      <th>BsmtFinSF1</th>\n      <th>BsmtFinSF2</th>\n      <th>...</th>\n      <th>GarageArea</th>\n      <th>WoodDeckSF</th>\n      <th>OpenPorchSF</th>\n      <th>EnclosedPorch</th>\n      <th>3SsnPorch</th>\n      <th>ScreenPorch</th>\n      <th>PoolArea</th>\n      <th>MiscVal</th>\n      <th>MoSold</th>\n      <th>YrSold</th>\n    </tr>\n    <tr>\n      <th>Id</th>\n      <th></th>\n      <th></th>\n      <th></th>\n      <th></th>\n      <th></th>\n      <th></th>\n      <th></th>\n      <th></th>\n      <th></th>\n      <th></th>\n      <th></th>\n      <th></th>\n      <th></th>\n      <th></th>\n      <th></th>\n      <th></th>\n      <th></th>\n      <th></th>\n      <th></th>\n      <th></th>\n      <th></th>\n    </tr>\n  </thead>\n  <tbody>\n    <tr>\n      <th>619</th>\n      <td>20</td>\n      <td>90.0</td>\n      <td>11694</td>\n      <td>9</td>\n      <td>5</td>\n      <td>2007</td>\n      <td>2007</td>\n      <td>452.0</td>\n      <td>48</td>\n      <td>0</td>\n      <td>...</td>\n      <td>774</td>\n      <td>0</td>\n      <td>108</td>\n      <td>0</td>\n      <td>0</td>\n      <td>260</td>\n      <td>0</td>\n      <td>0</td>\n      <td>7</td>\n      <td>2007</td>\n    </tr>\n    <tr>\n      <th>871</th>\n      <td>20</td>\n      <td>60.0</td>\n      <td>6600</td>\n      <td>5</td>\n      <td>5</td>\n      <td>1962</td>\n      <td>1962</td>\n      <td>0.0</td>\n      <td>0</td>\n      <td>0</td>\n      <td>...</td>\n      <td>308</td>\n      <td>0</td>\n      <td>0</td>\n      <td>0</td>\n      <td>0</td>\n      <td>0</td>\n      <td>0</td>\n      <td>0</td>\n      <td>8</td>\n      <td>2009</td>\n    </tr>\n    <tr>\n      <th>93</th>\n      <td>30</td>\n      <td>80.0</td>\n      <td>13360</td>\n      <td>5</td>\n      <td>7</td>\n      <td>1921</td>\n      <td>2006</td>\n      <td>0.0</td>\n      <td>713</td>\n      <td>0</td>\n      <td>...</td>\n      <td>432</td>\n      <td>0</td>\n      <td>0</td>\n      <td>44</td>\n      <td>0</td>\n      <td>0</td>\n      <td>0</td>\n      <td>0</td>\n      <td>8</td>\n      <td>2009</td>\n    </tr>\n    <tr>\n      <th>818</th>\n      <td>20</td>\n      <td>NaN</td>\n      <td>13265</td>\n      <td>8</td>\n      <td>5</td>\n      <td>2002</td>\n      <td>2002</td>\n      <td>148.0</td>\n      <td>1218</td>\n      <td>0</td>\n      <td>...</td>\n      <td>857</td>\n      <td>150</td>\n      <td>59</td>\n      <td>0</td>\n      <td>0</td>\n      <td>0</td>\n      <td>0</td>\n      <td>0</td>\n      <td>7</td>\n      <td>2008</td>\n    </tr>\n    <tr>\n      <th>303</th>\n      <td>20</td>\n      <td>118.0</td>\n      <td>13704</td>\n      <td>7</td>\n      <td>5</td>\n      <td>2001</td>\n      <td>2002</td>\n      <td>150.0</td>\n      <td>0</td>\n      <td>0</td>\n      <td>...</td>\n      <td>843</td>\n      <td>468</td>\n      <td>81</td>\n      <td>0</td>\n      <td>0</td>\n      <td>0</td>\n      <td>0</td>\n      <td>0</td>\n      <td>1</td>\n      <td>2006</td>\n    </tr>\n  </tbody>\n</table>\n<p>5 rows × 36 columns</p>\n</div>"
     },
     "metadata": {}
    }
   ]
  },
  {
   "cell_type": "markdown",
   "source": [
    "You can already see a few missing values in the first several rows.  In the next step, you'll obtain a more comprehensive understanding of the missing values in the dataset.\n",
    "\n",
    "# Step 1: Preliminary investigation\n",
    "\n",
    "Run the code cell below without changes."
   ],
   "metadata": {}
  },
  {
   "cell_type": "code",
   "source": [
    "# Shape of training data (num_rows, num_columns)\n",
    "print(X_train.shape)\n",
    "\n",
    "# Number of missing values in each column of training data\n",
    "missing_val_count_by_column = (X_train.isnull().sum())\n",
    "print(missing_val_count_by_column[missing_val_count_by_column > 0])\n"
   ],
   "metadata": {
    "execution": {
     "iopub.status.busy": "2022-03-27T13:16:46.532589Z",
     "iopub.execute_input": "2022-03-27T13:16:46.532898Z",
     "iopub.status.idle": "2022-03-27T13:16:46.543025Z",
     "shell.execute_reply.started": "2022-03-27T13:16:46.532863Z",
     "shell.execute_reply": "2022-03-27T13:16:46.542058Z"
    },
    "trusted": true
   },
   "execution_count": 4,
   "outputs": [
    {
     "name": "stdout",
     "text": "(1168, 36)\nLotFrontage    212\nMasVnrArea       6\nGarageYrBlt     58\ndtype: int64\n",
     "output_type": "stream"
    }
   ]
  },
  {
   "cell_type": "markdown",
   "source": [
    "### Part A\n",
    "\n",
    "Use the above output to answer the questions below."
   ],
   "metadata": {}
  },
  {
   "cell_type": "code",
   "source": [
    "# Fill in the line below: How many rows are in the training data?\n",
    "num_rows = X_train.shape[0]\n",
    "# Fill in the line below: How many columns in the training data\n",
    "# have missing values?\n",
    "\n",
    "num_cols_with_missing = missing_val_count_by_column[~(missing_val_count_by_column == 0)].count()\n",
    "\n",
    "# Fill in the line below: How many missing entries are contained in \n",
    "# all of the training data?\n",
    "tot_missing = missing_val_count_by_column.sum()\n",
    "\n",
    "# Check your answers\n",
    "# items only to run on kaggle notebook, not for local run\n",
    "if os.environ.get('KAGGLE_KERNEL_RUN_TYPE','') != '':\n",
    "    step_1.a.check()"
   ],
   "metadata": {
    "execution": {
     "iopub.status.busy": "2022-03-27T13:17:29.329311Z",
     "iopub.execute_input": "2022-03-27T13:17:29.330329Z",
     "iopub.status.idle": "2022-03-27T13:17:29.338176Z",
     "shell.execute_reply.started": "2022-03-27T13:17:29.330298Z",
     "shell.execute_reply": "2022-03-27T13:17:29.337641Z"
    },
    "trusted": true
   },
   "execution_count": 13,
   "outputs": [
    {
     "output_type": "display_data",
     "data": {
      "text/plain": "<IPython.core.display.Javascript object>",
      "application/javascript": "parent.postMessage({\"jupyterEvent\": \"custom.exercise_interaction\", \"data\": {\"outcomeType\": 1, \"valueTowardsCompletion\": 1.0, \"interactionType\": 1, \"questionType\": 1, \"questionId\": \"1.1_InvestigateEquality\", \"learnToolsVersion\": \"0.3.4\", \"failureMessage\": \"\", \"exceptionClass\": \"\", \"trace\": \"\"}}, \"*\")"
     },
     "metadata": {}
    },
    {
     "output_type": "display_data",
     "data": {
      "text/plain": "Correct",
      "text/markdown": "<span style=\"color:#33cc33\">Correct</span>"
     },
     "metadata": {}
    }
   ]
  },
  {
   "cell_type": "code",
   "source": [
    "# Lines below will give you a hint or solution code\n",
    "#step_1.a.hint()\n",
    "#step_1.a.solution()"
   ],
   "metadata": {
    "execution": {
     "iopub.status.busy": "2022-03-27T13:16:46.560178Z",
     "iopub.execute_input": "2022-03-27T13:16:46.560471Z",
     "iopub.status.idle": "2022-03-27T13:16:46.574254Z",
     "shell.execute_reply.started": "2022-03-27T13:16:46.560440Z",
     "shell.execute_reply": "2022-03-27T13:16:46.573640Z"
    },
    "trusted": true
   },
   "execution_count": 6,
   "outputs": []
  },
  {
   "cell_type": "markdown",
   "source": [
    "### Part B\n",
    "Considering your answers above, what do you think is likely the best approach to dealing with the missing values?"
   ],
   "metadata": {}
  },
  {
   "cell_type": "code",
   "source": [
    "# Check your answer (Run this code cell to receive credit!)\n",
    "# items only to run on kaggle notebook, not for local run\n",
    "if os.environ.get('KAGGLE_KERNEL_RUN_TYPE','') != '':\n",
    "    step_1.b.check()"
   ],
   "metadata": {
    "execution": {
     "iopub.status.busy": "2022-03-27T13:16:46.575577Z",
     "iopub.execute_input": "2022-03-27T13:16:46.576402Z",
     "iopub.status.idle": "2022-03-27T13:16:46.592329Z",
     "shell.execute_reply.started": "2022-03-27T13:16:46.576343Z",
     "shell.execute_reply": "2022-03-27T13:16:46.591518Z"
    },
    "trusted": true
   },
   "execution_count": 7,
   "outputs": [
    {
     "output_type": "display_data",
     "data": {
      "text/plain": "<IPython.core.display.Javascript object>",
      "application/javascript": "parent.postMessage({\"jupyterEvent\": \"custom.exercise_interaction\", \"data\": {\"outcomeType\": 1, \"valueTowardsCompletion\": 1.0, \"interactionType\": 1, \"questionType\": 4, \"questionId\": \"1.2_InvestigateThought\", \"learnToolsVersion\": \"0.3.4\", \"failureMessage\": \"\", \"exceptionClass\": \"\", \"trace\": \"\"}}, \"*\")"
     },
     "metadata": {}
    },
    {
     "output_type": "display_data",
     "data": {
      "text/plain": "Correct: \n\nSince there are relatively few missing entries in the data (the column with the greatest percentage of missing values is missing less than 20% of its entries), we can expect that dropping columns is unlikely to yield good results.  This is because we'd be throwing away a lot of valuable data, and so imputation will likely perform better.",
      "text/markdown": "<span style=\"color:#33cc33\">Correct:</span> \n\nSince there are relatively few missing entries in the data (the column with the greatest percentage of missing values is missing less than 20% of its entries), we can expect that dropping columns is unlikely to yield good results.  This is because we'd be throwing away a lot of valuable data, and so imputation will likely perform better."
     },
     "metadata": {}
    }
   ]
  },
  {
   "cell_type": "code",
   "source": [
    "#step_1.b.hint()"
   ],
   "metadata": {
    "execution": {
     "iopub.status.busy": "2022-03-27T13:16:46.594012Z",
     "iopub.execute_input": "2022-03-27T13:16:46.595010Z",
     "iopub.status.idle": "2022-03-27T13:16:46.603996Z",
     "shell.execute_reply.started": "2022-03-27T13:16:46.594906Z",
     "shell.execute_reply": "2022-03-27T13:16:46.602562Z"
    },
    "trusted": true
   },
   "execution_count": 8,
   "outputs": []
  },
  {
   "cell_type": "markdown",
   "source": [
    "To compare different approaches to dealing with missing values, you'll use the same `score_dataset()` function from the tutorial.  This function reports the [mean absolute error](https://en.wikipedia.org/wiki/Mean_absolute_error) (MAE) from a random forest model."
   ],
   "metadata": {}
  },
  {
   "cell_type": "code",
   "source": [
    "from sklearn.ensemble import RandomForestRegressor\n",
    "from sklearn.metrics import mean_absolute_error\n",
    "\n",
    "# Function for comparing different approaches\n",
    "def score_dataset(X_train, X_valid, y_train, y_valid):\n",
    "    model = RandomForestRegressor(n_estimators=100, random_state=0)\n",
    "    model.fit(X_train, y_train)\n",
    "    preds = model.predict(X_valid)\n",
    "    return mean_absolute_error(y_valid, preds)"
   ],
   "metadata": {
    "execution": {
     "iopub.status.busy": "2022-03-27T13:16:46.605164Z",
     "iopub.execute_input": "2022-03-27T13:16:46.605926Z",
     "iopub.status.idle": "2022-03-27T13:16:46.844706Z",
     "shell.execute_reply.started": "2022-03-27T13:16:46.605895Z",
     "shell.execute_reply": "2022-03-27T13:16:46.843767Z"
    },
    "trusted": true
   },
   "execution_count": 9,
   "outputs": []
  },
  {
   "cell_type": "markdown",
   "source": [
    "# Step 2: Drop columns with missing values\n",
    "\n",
    "In this step, you'll preprocess the data in `X_train` and `X_valid` to remove columns with missing values.  Set the preprocessed DataFrames to `reduced_X_train` and `reduced_X_valid`, respectively.  "
   ],
   "metadata": {}
  },
  {
   "cell_type": "code",
   "source": [
    "# Fill in the line below: get names of columns with missing values\n",
    "____ # Your code here\n",
    "\n",
    "# Fill in the lines below: drop columns in training and validation data\n",
    "reduced_X_train = ____\n",
    "reduced_X_valid = ____\n",
    "\n",
    "# Check your answers\n",
    "# items only to run on kaggle notebook, not for local run\n",
    "if os.environ.get('KAGGLE_KERNEL_RUN_TYPE','') != '':\n",
    "    step_2.check()"
   ],
   "metadata": {
    "execution": {
     "iopub.status.busy": "2022-03-27T13:16:46.846031Z",
     "iopub.execute_input": "2022-03-27T13:16:46.846208Z",
     "iopub.status.idle": "2022-03-27T13:16:46.854029Z",
     "shell.execute_reply.started": "2022-03-27T13:16:46.846185Z",
     "shell.execute_reply": "2022-03-27T13:16:46.852728Z"
    },
    "trusted": true
   },
   "execution_count": 10,
   "outputs": [
    {
     "output_type": "display_data",
     "data": {
      "text/plain": "<IPython.core.display.Javascript object>",
      "application/javascript": "parent.postMessage({\"jupyterEvent\": \"custom.exercise_interaction\", \"data\": {\"outcomeType\": 4, \"interactionType\": 1, \"questionType\": 2, \"questionId\": \"2_DropMissing\", \"learnToolsVersion\": \"0.3.4\", \"valueTowardsCompletion\": 0.0, \"failureMessage\": \"\", \"exceptionClass\": \"\", \"trace\": \"\"}}, \"*\")"
     },
     "metadata": {}
    },
    {
     "output_type": "display_data",
     "data": {
      "text/plain": "Check: When you've updated the starter code, `check()` will tell you whether your code is correct. You need to update the code that creates variables `reduced_X_train`, `reduced_X_valid`",
      "text/markdown": "<span style=\"color:#ccaa33\">Check:</span> When you've updated the starter code, `check()` will tell you whether your code is correct. You need to update the code that creates variables `reduced_X_train`, `reduced_X_valid`"
     },
     "metadata": {}
    }
   ]
  },
  {
   "cell_type": "code",
   "source": [
    "# Lines below will give you a hint or solution code\n",
    "#step_2.hint()\n",
    "#step_2.solution()"
   ],
   "metadata": {
    "execution": {
     "iopub.status.busy": "2022-03-27T13:16:46.855298Z",
     "iopub.execute_input": "2022-03-27T13:16:46.855488Z",
     "iopub.status.idle": "2022-03-27T13:16:46.866480Z",
     "shell.execute_reply.started": "2022-03-27T13:16:46.855463Z",
     "shell.execute_reply": "2022-03-27T13:16:46.864882Z"
    },
    "trusted": true
   },
   "execution_count": 11,
   "outputs": []
  },
  {
   "cell_type": "markdown",
   "source": [
    "Run the next code cell without changes to obtain the MAE for this approach."
   ],
   "metadata": {}
  },
  {
   "cell_type": "code",
   "source": [
    "print(\"MAE (Drop columns with missing values):\")\n",
    "print(score_dataset(reduced_X_train, reduced_X_valid, y_train, y_valid))"
   ],
   "metadata": {
    "execution": {
     "iopub.status.busy": "2022-03-27T13:16:46.868181Z",
     "iopub.execute_input": "2022-03-27T13:16:46.868529Z",
     "iopub.status.idle": "2022-03-27T13:16:46.983046Z",
     "shell.execute_reply.started": "2022-03-27T13:16:46.868492Z",
     "shell.execute_reply": "2022-03-27T13:16:46.981049Z"
    },
    "trusted": true
   },
   "execution_count": 12,
   "outputs": [
    {
     "name": "stdout",
     "text": "MAE (Drop columns with missing values):\n",
     "output_type": "stream"
    },
    {
     "traceback": [
      "\u001B[0;31m---------------------------------------------------------------------------\u001B[0m",
      "\u001B[0;31mTypeError\u001B[0m                                 Traceback (most recent call last)",
      "\u001B[0;32m/tmp/ipykernel_33/4043583691.py\u001B[0m in \u001B[0;36m<module>\u001B[0;34m\u001B[0m\n\u001B[1;32m      1\u001B[0m \u001B[0mprint\u001B[0m\u001B[0;34m(\u001B[0m\u001B[0;34m\"MAE (Drop columns with missing values):\"\u001B[0m\u001B[0;34m)\u001B[0m\u001B[0;34m\u001B[0m\u001B[0;34m\u001B[0m\u001B[0m\n\u001B[0;32m----> 2\u001B[0;31m \u001B[0mprint\u001B[0m\u001B[0;34m(\u001B[0m\u001B[0mscore_dataset\u001B[0m\u001B[0;34m(\u001B[0m\u001B[0mreduced_X_train\u001B[0m\u001B[0;34m,\u001B[0m \u001B[0mreduced_X_valid\u001B[0m\u001B[0;34m,\u001B[0m \u001B[0my_train\u001B[0m\u001B[0;34m,\u001B[0m \u001B[0my_valid\u001B[0m\u001B[0;34m)\u001B[0m\u001B[0;34m)\u001B[0m\u001B[0;34m\u001B[0m\u001B[0;34m\u001B[0m\u001B[0m\n\u001B[0m",
      "\u001B[0;32m/tmp/ipykernel_33/948660844.py\u001B[0m in \u001B[0;36mscore_dataset\u001B[0;34m(X_train, X_valid, y_train, y_valid)\u001B[0m\n\u001B[1;32m      5\u001B[0m \u001B[0;32mdef\u001B[0m \u001B[0mscore_dataset\u001B[0m\u001B[0;34m(\u001B[0m\u001B[0mX_train\u001B[0m\u001B[0;34m,\u001B[0m \u001B[0mX_valid\u001B[0m\u001B[0;34m,\u001B[0m \u001B[0my_train\u001B[0m\u001B[0;34m,\u001B[0m \u001B[0my_valid\u001B[0m\u001B[0;34m)\u001B[0m\u001B[0;34m:\u001B[0m\u001B[0;34m\u001B[0m\u001B[0;34m\u001B[0m\u001B[0m\n\u001B[1;32m      6\u001B[0m     \u001B[0mmodel\u001B[0m \u001B[0;34m=\u001B[0m \u001B[0mRandomForestRegressor\u001B[0m\u001B[0;34m(\u001B[0m\u001B[0mn_estimators\u001B[0m\u001B[0;34m=\u001B[0m\u001B[0;36m100\u001B[0m\u001B[0;34m,\u001B[0m \u001B[0mrandom_state\u001B[0m\u001B[0;34m=\u001B[0m\u001B[0;36m0\u001B[0m\u001B[0;34m)\u001B[0m\u001B[0;34m\u001B[0m\u001B[0;34m\u001B[0m\u001B[0m\n\u001B[0;32m----> 7\u001B[0;31m     \u001B[0mmodel\u001B[0m\u001B[0;34m.\u001B[0m\u001B[0mfit\u001B[0m\u001B[0;34m(\u001B[0m\u001B[0mX_train\u001B[0m\u001B[0;34m,\u001B[0m \u001B[0my_train\u001B[0m\u001B[0;34m)\u001B[0m\u001B[0;34m\u001B[0m\u001B[0;34m\u001B[0m\u001B[0m\n\u001B[0m\u001B[1;32m      8\u001B[0m     \u001B[0mpreds\u001B[0m \u001B[0;34m=\u001B[0m \u001B[0mmodel\u001B[0m\u001B[0;34m.\u001B[0m\u001B[0mpredict\u001B[0m\u001B[0;34m(\u001B[0m\u001B[0mX_valid\u001B[0m\u001B[0;34m)\u001B[0m\u001B[0;34m\u001B[0m\u001B[0;34m\u001B[0m\u001B[0m\n\u001B[1;32m      9\u001B[0m     \u001B[0;32mreturn\u001B[0m \u001B[0mmean_absolute_error\u001B[0m\u001B[0;34m(\u001B[0m\u001B[0my_valid\u001B[0m\u001B[0;34m,\u001B[0m \u001B[0mpreds\u001B[0m\u001B[0;34m)\u001B[0m\u001B[0;34m\u001B[0m\u001B[0;34m\u001B[0m\u001B[0m\n",
      "\u001B[0;32m/opt/conda/lib/python3.7/site-packages/sklearn/ensemble/_forest.py\u001B[0m in \u001B[0;36mfit\u001B[0;34m(self, X, y, sample_weight)\u001B[0m\n\u001B[1;32m    326\u001B[0m             \u001B[0;32mraise\u001B[0m \u001B[0mValueError\u001B[0m\u001B[0;34m(\u001B[0m\u001B[0;34m\"sparse multilabel-indicator for y is not supported.\"\u001B[0m\u001B[0;34m)\u001B[0m\u001B[0;34m\u001B[0m\u001B[0;34m\u001B[0m\u001B[0m\n\u001B[1;32m    327\u001B[0m         X, y = self._validate_data(\n\u001B[0;32m--> 328\u001B[0;31m             \u001B[0mX\u001B[0m\u001B[0;34m,\u001B[0m \u001B[0my\u001B[0m\u001B[0;34m,\u001B[0m \u001B[0mmulti_output\u001B[0m\u001B[0;34m=\u001B[0m\u001B[0;32mTrue\u001B[0m\u001B[0;34m,\u001B[0m \u001B[0maccept_sparse\u001B[0m\u001B[0;34m=\u001B[0m\u001B[0;34m\"csc\"\u001B[0m\u001B[0;34m,\u001B[0m \u001B[0mdtype\u001B[0m\u001B[0;34m=\u001B[0m\u001B[0mDTYPE\u001B[0m\u001B[0;34m\u001B[0m\u001B[0;34m\u001B[0m\u001B[0m\n\u001B[0m\u001B[1;32m    329\u001B[0m         )\n\u001B[1;32m    330\u001B[0m         \u001B[0;32mif\u001B[0m \u001B[0msample_weight\u001B[0m \u001B[0;32mis\u001B[0m \u001B[0;32mnot\u001B[0m \u001B[0;32mNone\u001B[0m\u001B[0;34m:\u001B[0m\u001B[0;34m\u001B[0m\u001B[0;34m\u001B[0m\u001B[0m\n",
      "\u001B[0;32m/opt/conda/lib/python3.7/site-packages/sklearn/base.py\u001B[0m in \u001B[0;36m_validate_data\u001B[0;34m(self, X, y, reset, validate_separately, **check_params)\u001B[0m\n\u001B[1;32m    574\u001B[0m                 \u001B[0my\u001B[0m \u001B[0;34m=\u001B[0m \u001B[0mcheck_array\u001B[0m\u001B[0;34m(\u001B[0m\u001B[0my\u001B[0m\u001B[0;34m,\u001B[0m \u001B[0;34m**\u001B[0m\u001B[0mcheck_y_params\u001B[0m\u001B[0;34m)\u001B[0m\u001B[0;34m\u001B[0m\u001B[0;34m\u001B[0m\u001B[0m\n\u001B[1;32m    575\u001B[0m             \u001B[0;32melse\u001B[0m\u001B[0;34m:\u001B[0m\u001B[0;34m\u001B[0m\u001B[0;34m\u001B[0m\u001B[0m\n\u001B[0;32m--> 576\u001B[0;31m                 \u001B[0mX\u001B[0m\u001B[0;34m,\u001B[0m \u001B[0my\u001B[0m \u001B[0;34m=\u001B[0m \u001B[0mcheck_X_y\u001B[0m\u001B[0;34m(\u001B[0m\u001B[0mX\u001B[0m\u001B[0;34m,\u001B[0m \u001B[0my\u001B[0m\u001B[0;34m,\u001B[0m \u001B[0;34m**\u001B[0m\u001B[0mcheck_params\u001B[0m\u001B[0;34m)\u001B[0m\u001B[0;34m\u001B[0m\u001B[0;34m\u001B[0m\u001B[0m\n\u001B[0m\u001B[1;32m    577\u001B[0m             \u001B[0mout\u001B[0m \u001B[0;34m=\u001B[0m \u001B[0mX\u001B[0m\u001B[0;34m,\u001B[0m \u001B[0my\u001B[0m\u001B[0;34m\u001B[0m\u001B[0;34m\u001B[0m\u001B[0m\n\u001B[1;32m    578\u001B[0m \u001B[0;34m\u001B[0m\u001B[0m\n",
      "\u001B[0;32m/opt/conda/lib/python3.7/site-packages/sklearn/utils/validation.py\u001B[0m in \u001B[0;36mcheck_X_y\u001B[0;34m(X, y, accept_sparse, accept_large_sparse, dtype, order, copy, force_all_finite, ensure_2d, allow_nd, multi_output, ensure_min_samples, ensure_min_features, y_numeric, estimator)\u001B[0m\n\u001B[1;32m    966\u001B[0m         \u001B[0mensure_min_samples\u001B[0m\u001B[0;34m=\u001B[0m\u001B[0mensure_min_samples\u001B[0m\u001B[0;34m,\u001B[0m\u001B[0;34m\u001B[0m\u001B[0;34m\u001B[0m\u001B[0m\n\u001B[1;32m    967\u001B[0m         \u001B[0mensure_min_features\u001B[0m\u001B[0;34m=\u001B[0m\u001B[0mensure_min_features\u001B[0m\u001B[0;34m,\u001B[0m\u001B[0;34m\u001B[0m\u001B[0;34m\u001B[0m\u001B[0m\n\u001B[0;32m--> 968\u001B[0;31m         \u001B[0mestimator\u001B[0m\u001B[0;34m=\u001B[0m\u001B[0mestimator\u001B[0m\u001B[0;34m,\u001B[0m\u001B[0;34m\u001B[0m\u001B[0;34m\u001B[0m\u001B[0m\n\u001B[0m\u001B[1;32m    969\u001B[0m     )\n\u001B[1;32m    970\u001B[0m \u001B[0;34m\u001B[0m\u001B[0m\n",
      "\u001B[0;32m/opt/conda/lib/python3.7/site-packages/sklearn/utils/validation.py\u001B[0m in \u001B[0;36mcheck_array\u001B[0;34m(array, accept_sparse, accept_large_sparse, dtype, order, copy, force_all_finite, ensure_2d, allow_nd, ensure_min_samples, ensure_min_features, estimator)\u001B[0m\n\u001B[1;32m    736\u001B[0m                     \u001B[0marray\u001B[0m \u001B[0;34m=\u001B[0m \u001B[0marray\u001B[0m\u001B[0;34m.\u001B[0m\u001B[0mastype\u001B[0m\u001B[0;34m(\u001B[0m\u001B[0mdtype\u001B[0m\u001B[0;34m,\u001B[0m \u001B[0mcasting\u001B[0m\u001B[0;34m=\u001B[0m\u001B[0;34m\"unsafe\"\u001B[0m\u001B[0;34m,\u001B[0m \u001B[0mcopy\u001B[0m\u001B[0;34m=\u001B[0m\u001B[0;32mFalse\u001B[0m\u001B[0;34m)\u001B[0m\u001B[0;34m\u001B[0m\u001B[0;34m\u001B[0m\u001B[0m\n\u001B[1;32m    737\u001B[0m                 \u001B[0;32melse\u001B[0m\u001B[0;34m:\u001B[0m\u001B[0;34m\u001B[0m\u001B[0;34m\u001B[0m\u001B[0m\n\u001B[0;32m--> 738\u001B[0;31m                     \u001B[0marray\u001B[0m \u001B[0;34m=\u001B[0m \u001B[0mnp\u001B[0m\u001B[0;34m.\u001B[0m\u001B[0masarray\u001B[0m\u001B[0;34m(\u001B[0m\u001B[0marray\u001B[0m\u001B[0;34m,\u001B[0m \u001B[0morder\u001B[0m\u001B[0;34m=\u001B[0m\u001B[0morder\u001B[0m\u001B[0;34m,\u001B[0m \u001B[0mdtype\u001B[0m\u001B[0;34m=\u001B[0m\u001B[0mdtype\u001B[0m\u001B[0;34m)\u001B[0m\u001B[0;34m\u001B[0m\u001B[0;34m\u001B[0m\u001B[0m\n\u001B[0m\u001B[1;32m    739\u001B[0m             \u001B[0;32mexcept\u001B[0m \u001B[0mComplexWarning\u001B[0m \u001B[0;32mas\u001B[0m \u001B[0mcomplex_warning\u001B[0m\u001B[0;34m:\u001B[0m\u001B[0;34m\u001B[0m\u001B[0;34m\u001B[0m\u001B[0m\n\u001B[1;32m    740\u001B[0m                 raise ValueError(\n",
      "\u001B[0;32m/opt/conda/lib/python3.7/site-packages/numpy/core/_asarray.py\u001B[0m in \u001B[0;36masarray\u001B[0;34m(a, dtype, order, like)\u001B[0m\n\u001B[1;32m    100\u001B[0m         \u001B[0;32mreturn\u001B[0m \u001B[0m_asarray_with_like\u001B[0m\u001B[0;34m(\u001B[0m\u001B[0ma\u001B[0m\u001B[0;34m,\u001B[0m \u001B[0mdtype\u001B[0m\u001B[0;34m=\u001B[0m\u001B[0mdtype\u001B[0m\u001B[0;34m,\u001B[0m \u001B[0morder\u001B[0m\u001B[0;34m=\u001B[0m\u001B[0morder\u001B[0m\u001B[0;34m,\u001B[0m \u001B[0mlike\u001B[0m\u001B[0;34m=\u001B[0m\u001B[0mlike\u001B[0m\u001B[0;34m)\u001B[0m\u001B[0;34m\u001B[0m\u001B[0;34m\u001B[0m\u001B[0m\n\u001B[1;32m    101\u001B[0m \u001B[0;34m\u001B[0m\u001B[0m\n\u001B[0;32m--> 102\u001B[0;31m     \u001B[0;32mreturn\u001B[0m \u001B[0marray\u001B[0m\u001B[0;34m(\u001B[0m\u001B[0ma\u001B[0m\u001B[0;34m,\u001B[0m \u001B[0mdtype\u001B[0m\u001B[0;34m,\u001B[0m \u001B[0mcopy\u001B[0m\u001B[0;34m=\u001B[0m\u001B[0;32mFalse\u001B[0m\u001B[0;34m,\u001B[0m \u001B[0morder\u001B[0m\u001B[0;34m=\u001B[0m\u001B[0morder\u001B[0m\u001B[0;34m)\u001B[0m\u001B[0;34m\u001B[0m\u001B[0;34m\u001B[0m\u001B[0m\n\u001B[0m\u001B[1;32m    103\u001B[0m \u001B[0;34m\u001B[0m\u001B[0m\n\u001B[1;32m    104\u001B[0m \u001B[0;34m\u001B[0m\u001B[0m\n",
      "\u001B[0;31mTypeError\u001B[0m: float() argument must be a string or a number, not 'PlaceholderValue'"
     ],
     "ename": "TypeError",
     "evalue": "float() argument must be a string or a number, not 'PlaceholderValue'",
     "output_type": "error"
    }
   ]
  },
  {
   "cell_type": "markdown",
   "source": [
    "# Step 3: Imputation\n",
    "\n",
    "### Part A\n",
    "\n",
    "Use the next code cell to impute missing values with the mean value along each column.  Set the preprocessed DataFrames to `imputed_X_train` and `imputed_X_valid`.  Make sure that the column names match those in `X_train` and `X_valid`."
   ],
   "metadata": {}
  },
  {
   "cell_type": "code",
   "source": [
    "from sklearn.impute import SimpleImputer\n",
    "\n",
    "# Fill in the lines below: imputation\n",
    "____ # Your code here\n",
    "imputed_X_train = ____\n",
    "imputed_X_valid = ____\n",
    "\n",
    "# Fill in the lines below: imputation removed column names; put them back\n",
    "imputed_X_train.columns = ____\n",
    "imputed_X_valid.columns = ____\n",
    "\n",
    "# Check your answers\n",
    "# items only to run on kaggle notebook, not for local run\n",
    "if os.environ.get('KAGGLE_KERNEL_RUN_TYPE','') != '':\n",
    "    step_3.a.check()"
   ],
   "metadata": {
    "execution": {
     "iopub.status.busy": "2022-03-27T13:16:46.983900Z",
     "iopub.status.idle": "2022-03-27T13:16:46.984174Z",
     "shell.execute_reply.started": "2022-03-27T13:16:46.984036Z",
     "shell.execute_reply": "2022-03-27T13:16:46.984052Z"
    },
    "trusted": true
   },
   "execution_count": null,
   "outputs": []
  },
  {
   "cell_type": "code",
   "source": [
    "# Lines below will give you a hint or solution code\n",
    "#step_3.a.hint()\n",
    "#step_3.a.solution()"
   ],
   "metadata": {
    "execution": {
     "iopub.status.busy": "2022-03-27T13:16:46.985934Z",
     "iopub.status.idle": "2022-03-27T13:16:46.986276Z",
     "shell.execute_reply.started": "2022-03-27T13:16:46.986120Z",
     "shell.execute_reply": "2022-03-27T13:16:46.986137Z"
    },
    "trusted": true
   },
   "execution_count": null,
   "outputs": []
  },
  {
   "cell_type": "markdown",
   "source": [
    "Run the next code cell without changes to obtain the MAE for this approach."
   ],
   "metadata": {}
  },
  {
   "cell_type": "code",
   "source": [
    "print(\"MAE (Imputation):\")\n",
    "print(score_dataset(imputed_X_train, imputed_X_valid, y_train, y_valid))"
   ],
   "metadata": {
    "execution": {
     "iopub.status.busy": "2022-03-27T13:16:46.988552Z",
     "iopub.status.idle": "2022-03-27T13:16:46.989236Z",
     "shell.execute_reply.started": "2022-03-27T13:16:46.989065Z",
     "shell.execute_reply": "2022-03-27T13:16:46.989085Z"
    },
    "trusted": true
   },
   "execution_count": null,
   "outputs": []
  },
  {
   "cell_type": "markdown",
   "source": [
    "### Part B\n",
    "\n",
    "Compare the MAE from each approach.  Does anything surprise you about the results?  Why do you think one approach performed better than the other?"
   ],
   "metadata": {}
  },
  {
   "cell_type": "code",
   "source": [
    "# Check your answer (Run this code cell to receive credit!)\n",
    "# items only to run on kaggle notebook, not for local run\n",
    "if os.environ.get('KAGGLE_KERNEL_RUN_TYPE','') != '':\n",
    "    step_3.b.check()"
   ],
   "metadata": {
    "execution": {
     "iopub.status.busy": "2022-03-27T13:16:46.989818Z",
     "iopub.status.idle": "2022-03-27T13:16:46.990061Z",
     "shell.execute_reply.started": "2022-03-27T13:16:46.989927Z",
     "shell.execute_reply": "2022-03-27T13:16:46.989940Z"
    },
    "trusted": true
   },
   "execution_count": null,
   "outputs": []
  },
  {
   "cell_type": "code",
   "source": [
    "#step_3.b.hint()"
   ],
   "metadata": {
    "execution": {
     "iopub.status.busy": "2022-03-27T13:16:46.993630Z",
     "iopub.status.idle": "2022-03-27T13:16:46.993964Z",
     "shell.execute_reply.started": "2022-03-27T13:16:46.993817Z",
     "shell.execute_reply": "2022-03-27T13:16:46.993838Z"
    },
    "trusted": true
   },
   "execution_count": null,
   "outputs": []
  },
  {
   "cell_type": "markdown",
   "source": [
    "# Step 4: Generate test predictions\n",
    "\n",
    "In this final step, you'll use any approach of your choosing to deal with missing values.  Once you've preprocessed the training and validation features, you'll train and evaluate a random forest model.  Then, you'll preprocess the test data before generating predictions that can be submitted to the competition!\n",
    "\n",
    "### Part A\n",
    "\n",
    "Use the next code cell to preprocess the training and validation data.  Set the preprocessed DataFrames to `final_X_train` and `final_X_valid`.  **You can use any approach of your choosing here!**  in order for this step to be marked as correct, you need only ensure:\n",
    "- the preprocessed DataFrames have the same number of columns,\n",
    "- the preprocessed DataFrames have no missing values, \n",
    "- `final_X_train` and `y_train` have the same number of rows, and\n",
    "- `final_X_valid` and `y_valid` have the same number of rows."
   ],
   "metadata": {}
  },
  {
   "cell_type": "code",
   "source": [
    "# Preprocessed training and validation features\n",
    "final_X_train = ____\n",
    "final_X_valid = ____\n",
    "\n",
    "# Check your answers\n",
    "# items only to run on kaggle notebook, not for local run\n",
    "if os.environ.get('KAGGLE_KERNEL_RUN_TYPE','') != '':\n",
    "    step_4.a.check()"
   ],
   "metadata": {
    "execution": {
     "iopub.status.busy": "2022-03-27T13:16:46.994644Z",
     "iopub.status.idle": "2022-03-27T13:16:46.994889Z",
     "shell.execute_reply.started": "2022-03-27T13:16:46.994766Z",
     "shell.execute_reply": "2022-03-27T13:16:46.994779Z"
    },
    "trusted": true
   },
   "execution_count": null,
   "outputs": []
  },
  {
   "cell_type": "code",
   "source": [
    "# Lines below will give you a hint or solution code\n",
    "#step_4.a.hint()\n",
    "#step_4.a.solution()"
   ],
   "metadata": {
    "execution": {
     "iopub.status.busy": "2022-03-27T13:16:46.995439Z",
     "iopub.status.idle": "2022-03-27T13:16:46.995668Z",
     "shell.execute_reply.started": "2022-03-27T13:16:46.995546Z",
     "shell.execute_reply": "2022-03-27T13:16:46.995558Z"
    },
    "trusted": true
   },
   "execution_count": null,
   "outputs": []
  },
  {
   "cell_type": "markdown",
   "source": [
    "Run the next code cell to train and evaluate a random forest model.  (*Note that we don't use the `score_dataset()` function above, because we will soon use the trained model to generate test predictions!*)"
   ],
   "metadata": {}
  },
  {
   "cell_type": "code",
   "source": [
    "# Define and fit model\n",
    "model = RandomForestRegressor(n_estimators=100, random_state=0)\n",
    "model.fit(final_X_train, y_train)\n",
    "\n",
    "# Get validation predictions and MAE\n",
    "preds_valid = model.predict(final_X_valid)\n",
    "print(\"MAE (Your approach):\")\n",
    "print(mean_absolute_error(y_valid, preds_valid))"
   ],
   "metadata": {
    "execution": {
     "iopub.status.busy": "2022-03-27T13:16:46.996289Z",
     "iopub.status.idle": "2022-03-27T13:16:46.996514Z",
     "shell.execute_reply.started": "2022-03-27T13:16:46.996395Z",
     "shell.execute_reply": "2022-03-27T13:16:46.996407Z"
    },
    "trusted": true
   },
   "execution_count": null,
   "outputs": []
  },
  {
   "cell_type": "markdown",
   "source": [
    "### Part B\n",
    "\n",
    "Use the next code cell to preprocess your test data.  Make sure that you use a method that agrees with how you preprocessed the training and validation data, and set the preprocessed test features to `final_X_test`.\n",
    "\n",
    "Then, use the preprocessed test features and the trained model to generate test predictions in `preds_test`.\n",
    "\n",
    "In order for this step to be marked correct, you need only ensure:\n",
    "- the preprocessed test DataFrame has no missing values, and\n",
    "- `final_X_test` has the same number of rows as `X_test`."
   ],
   "metadata": {}
  },
  {
   "cell_type": "code",
   "source": [
    "# Fill in the line below: preprocess test data\n",
    "final_X_test = ____\n",
    "\n",
    "# Fill in the line below: get test predictions\n",
    "preds_test = ____\n",
    "\n",
    "# Check your answers\n",
    "# items only to run on kaggle notebook, not for local run\n",
    "if os.environ.get('KAGGLE_KERNEL_RUN_TYPE','') != '':\n",
    "    step_4.b.check()"
   ],
   "metadata": {
    "execution": {
     "iopub.status.busy": "2022-03-27T13:16:46.997088Z",
     "iopub.status.idle": "2022-03-27T13:16:46.997317Z",
     "shell.execute_reply.started": "2022-03-27T13:16:46.997201Z",
     "shell.execute_reply": "2022-03-27T13:16:46.997213Z"
    },
    "trusted": true
   },
   "execution_count": null,
   "outputs": []
  },
  {
   "cell_type": "code",
   "source": [
    "# Lines below will give you a hint or solution code\n",
    "#step_4.b.hint()\n",
    "#step_4.b.solution()"
   ],
   "metadata": {
    "execution": {
     "iopub.status.busy": "2022-03-27T13:16:46.998969Z",
     "iopub.status.idle": "2022-03-27T13:16:46.999380Z",
     "shell.execute_reply.started": "2022-03-27T13:16:46.999199Z",
     "shell.execute_reply": "2022-03-27T13:16:46.999215Z"
    },
    "trusted": true
   },
   "execution_count": null,
   "outputs": []
  },
  {
   "cell_type": "markdown",
   "source": [
    "Run the next code cell without changes to save your results to a CSV file that can be submitted directly to the competition."
   ],
   "metadata": {}
  },
  {
   "cell_type": "code",
   "source": [
    "# Save test predictions to file\n",
    "output = pd.DataFrame({'Id': X_test.index,\n",
    "                       'SalePrice': preds_test})\n",
    "output.to_csv('submission.csv', index=False)"
   ],
   "metadata": {
    "execution": {
     "iopub.status.busy": "2022-03-27T13:16:47.000150Z",
     "iopub.status.idle": "2022-03-27T13:16:47.000387Z",
     "shell.execute_reply.started": "2022-03-27T13:16:47.000264Z",
     "shell.execute_reply": "2022-03-27T13:16:47.000277Z"
    },
    "trusted": true
   },
   "execution_count": null,
   "outputs": []
  },
  {
   "cell_type": "markdown",
   "source": [
    "# Submit your results\n",
    "\n",
    "Once you have successfully completed Step 4, you're ready to submit your results to the leaderboard!  (_You also learned how to do this in the previous exercise.  If you need a reminder of how to do this, please use the instructions below._)  \n",
    "\n",
    "First, you'll need to join the competition if you haven't already.  So open a new window by clicking on [this link](https://www.kaggle.com/c/home-data-for-ml-course).  Then click on the **Join Competition** button.\n",
    "\n",
    "![join competition image](https://i.imgur.com/wLmFtH3.png)\n",
    "\n",
    "Next, follow the instructions below:\n",
    "1. Begin by clicking on the **Save Version** button in the top right corner of the window.  This will generate a pop-up window.  \n",
    "2. Ensure that the **Save and Run All** option is selected, and then click on the **Save** button.\n",
    "3. This generates a window in the bottom left corner of the notebook.  After it has finished running, click on the number to the right of the **Save Version** button.  This pulls up a list of versions on the right of the screen.  Click on the ellipsis **(...)** to the right of the most recent version, and select **Open in Viewer**.  This brings you into view mode of the same page. You will need to scroll down to get back to these instructions.\n",
    "4. Click on the **Output** tab on the right of the screen.  Then, click on the file you would like to submit, and click on the **Submit** button to submit your results to the leaderboard.\n",
    "\n",
    "You have now successfully submitted to the competition!\n",
    "\n",
    "If you want to keep working to improve your performance, select the **Edit** button in the top right of the screen. Then you can change your code and repeat the process. There's a lot of room to improve, and you will climb up the leaderboard as you work.\n",
    "\n",
    "\n",
    "# Keep going\n",
    "\n",
    "Move on to learn what **[categorical variables](https://www.kaggle.com/alexisbcook/categorical-variables)** are, along with how to incorporate them into your machine learning models.  Categorical variables are very common in real-world data, but you'll get an error if you try to plug them into your models without processing them first!"
   ],
   "metadata": {
    "pycharm": {
     "name": "#%% md\n"
    }
   }
  }
 ]
}